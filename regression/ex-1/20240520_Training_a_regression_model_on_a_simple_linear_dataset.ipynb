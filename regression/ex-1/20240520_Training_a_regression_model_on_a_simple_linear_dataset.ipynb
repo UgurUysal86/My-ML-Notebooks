{
  "nbformat": 4,
  "nbformat_minor": 0,
  "metadata": {
    "colab": {
      "provenance": [],
      "include_colab_link": true
    },
    "kernelspec": {
      "name": "python3",
      "display_name": "Python 3"
    },
    "gpuClass": "standard"
  },
  "cells": [
    {
      "cell_type": "markdown",
      "metadata": {
        "id": "view-in-github",
        "colab_type": "text"
      },
      "source": [
        "<a href=\"https://colab.research.google.com/github/UgurUysal86/My-ML-Notebooks/blob/main/regression/ex-1/20240520_Training_a_regression_model_on_a_simple_linear_dataset.ipynb\" target=\"_parent\"><img src=\"https://colab.research.google.com/assets/colab-badge.svg\" alt=\"Open In Colab\"/></a>"
      ]
    },
    {
      "cell_type": "markdown",
      "metadata": {
        "id": "b9qyoCd6sKiG"
      },
      "source": [
        "## [Ugur Uysal](https://github.com/UgurUysal86) - ugur.uysal.86@gmail.com - 20. MAY 2024\n",
        "## Training a regression model on a simple linear dataset\n",
        "\n",
        "* This notebook demonstrates and explains the process of training a neural network-based regression model utilizing tensorflow.keras on a simple linear dataset."
      ]
    },
    {
      "cell_type": "markdown",
      "source": [
        "## 1. Import python packages\n",
        "\n",
        "The code snippet provided below is setting up the environment for a Python program that will use TensorFlow and NumPy libraries. Here’s a breakdown of what each line does:\n",
        "\n",
        "* import tensorflow as tf: This line imports the TensorFlow library and gives it the alias tf. TensorFlow is an open-source library for numerical computation and machine learning. The alias allows you to use tf instead of tensorflow when calling TensorFlow functions.\n",
        "\n",
        "* print(\"Using Tensorflow Version\", tf.__version__, \"\\n\"): After importing TensorFlow, this line prints the version of TensorFlow that is currently being used. This is helpful for debugging purposes or to ensure compatibility with certain TensorFlow features. The __version__ attribute of TensorFlow holds this version information.\n",
        "\n",
        "* import numpy as np: This line imports the NumPy library with the alias np. NumPy is a fundamental package for scientific computing in Python, providing support for arrays, mathematical functions, and more.\n",
        "\n",
        "* np.set_printoptions(precision=10, suppress=True): Finally, this line sets the printing options for NumPy. The precision=10 argument specifies that when printing NumPy arrays, numbers will be displayed with a fixed precision of 10 decimal places. The suppress=True argument tells NumPy to suppress the use of scientific notation for small numbers, which means it will print out the numbers in a more readable format without using exponents.\n",
        "\n",
        "Overall, these lines of code are preparing the Python environment by importing necessary libraries and setting configurations that will be used throughout the rest of the program or machine learning model development."
      ],
      "metadata": {
        "id": "ptfZ5-OAWqhj"
      }
    },
    {
      "cell_type": "code",
      "metadata": {
        "id": "4nRHeYn6rYcp",
        "colab": {
          "base_uri": "https://localhost:8080/"
        },
        "outputId": "24b349eb-5553-4b40-f1a8-55fc46344f50"
      },
      "source": [
        "import tensorflow as tf\n",
        "print(\"Using Tensorflow Version\", tf.__version__, \"\\n\")\n",
        "import numpy as np\n",
        "np.set_printoptions(precision=10, suppress=True)"
      ],
      "execution_count": null,
      "outputs": [
        {
          "output_type": "stream",
          "name": "stdout",
          "text": [
            "Using Tensorflow Version 2.15.0 \n",
            "\n"
          ]
        }
      ]
    },
    {
      "cell_type": "markdown",
      "source": [
        "## 2. Defining Training Data for the Linear Regression\n",
        "\n",
        "The code below creates a simple dataset that consists of two arrays:\n",
        "x_train and y_train.\n",
        "\n",
        "* x_train = np.array([2,5,11,8,16]): This line creates an array named x_train using NumPy, which is a popular library for numerical computing in Python. The array contains a series of numbers that represent the input features or independent variables for a machine learning model.\n",
        "\n",
        "* y_train = np.array([3,6,12,9,17]): Similarly, this line creates another array named y_train. This array holds the corresponding target values or dependent variables that the model will try to predict.\n",
        "\n",
        "In essence, these two lines of code are preparing a set of paired data points where each x_train value has a corresponding y_train value. This dataset can be used to train a machine learning model to understand the relationship between the inputs (x_train) and outputs (y_train), which in this case, appears to be a linear relationship."
      ],
      "metadata": {
        "id": "hvmaqz_AWzuv"
      }
    },
    {
      "cell_type": "code",
      "source": [
        "x_train = np.array([2,5,11,8,16])\n",
        "y_train = np.array([3,6,12,9,17])"
      ],
      "metadata": {
        "id": "AJGe2kZNJxW5"
      },
      "execution_count": null,
      "outputs": []
    },
    {
      "cell_type": "markdown",
      "source": [
        "## 3. Initializing and Constructing a Neural Network for Regression\n",
        "\n",
        "The code provided below is using TensorFlow’s Keras API to set up a neural network with two hidden layers and one output layer for a regression task, which could be used to predict continuous values based on input data.\n",
        "\n",
        "* tf.keras.backend.clear_session(): This function clears any existing model from memory, ensuring that your model is created afresh. It’s useful when you want to start a new model without any leftover state from previous models.\n",
        "\n",
        "* model = tf.keras.Sequential(): Initializes a new sequential model. Sequential models are a linear stack of layers where each layer has exactly one input tensor and one output tensor.\n",
        "\n",
        "* model.add(tf.keras.layers.Dense(32, activation=tf.nn.relu, input_shape=[1])): Adds the first dense (fully connected) layer to the model with 32 neurons, uses the ReLU (Rectified Linear Unit) activation function, and expects input data with a shape of [1] (one-dimensional).\n",
        "\n",
        "* model.add(tf.keras.layers.Dense(16, activation=tf.nn.relu)): Adds a second dense layer with 16 neurons, also using the ReLU activation function.\n",
        "model.add(tf.keras.layers.Dense(1)): Adds the final dense layer with a single neuron. This output layer will produce the predicted value for the regression task.\n",
        "\n",
        "* model.compile(optimizer=tf.keras.optimizers.Adam(learning_rate=0.005), loss='mean_squared_error'): Compiles the model with the Adam optimizer (a popular optimization algorithm) and sets the learning rate to 0.005. The loss function used is ‘mean_squared_error’, which is common for regression problems.\n",
        "\n",
        "* model.summary(): Prints a summary of the model, showing the architecture, including the number of parameters and the shape of the output at each layer.\n",
        "This script is setting up a neural network with two hidden layers and one output layer for a regression task, which could be used to predict continuous values based on input data."
      ],
      "metadata": {
        "id": "h2MfZjsFYOcc"
      }
    },
    {
      "cell_type": "code",
      "metadata": {
        "id": "k8w8Rc4DwX-c",
        "colab": {
          "base_uri": "https://localhost:8080/"
        },
        "outputId": "43d07e3b-5070-4e60-efda-d12923452588"
      },
      "source": [
        "tf.keras.backend.clear_session()\n",
        "\n",
        "model = tf.keras.Sequential()\n",
        "model.add(tf.keras.layers.Dense(32, activation=tf.nn.relu, input_shape=[1]))\n",
        "model.add(tf.keras.layers.Dense(16, activation=tf.nn.relu))\n",
        "model.add(tf.keras.layers.Dense(1))\n",
        "\n",
        "model.compile(optimizer=tf.keras.optimizers.Adam(learning_rate=0.005), loss='mean_squared_error')\n",
        "model.summary()"
      ],
      "execution_count": null,
      "outputs": [
        {
          "output_type": "stream",
          "name": "stdout",
          "text": [
            "Model: \"sequential\"\n",
            "_________________________________________________________________\n",
            " Layer (type)                Output Shape              Param #   \n",
            "=================================================================\n",
            " dense (Dense)               (None, 32)                64        \n",
            "                                                                 \n",
            " dense_1 (Dense)             (None, 16)                528       \n",
            "                                                                 \n",
            " dense_2 (Dense)             (None, 1)                 17        \n",
            "                                                                 \n",
            "=================================================================\n",
            "Total params: 609 (2.38 KB)\n",
            "Trainable params: 609 (2.38 KB)\n",
            "Non-trainable params: 0 (0.00 Byte)\n",
            "_________________________________________________________________\n"
          ]
        }
      ]
    },
    {
      "cell_type": "markdown",
      "source": [
        "## 4. Training the Neural Network\n",
        "\n",
        "The code model.fit(x_train, y_train, epochs=500, verbose=0) is a command in TensorFlow that initiates the training process of the neural network model constructed above.\n",
        "\n",
        "* model.fit(): This is the method used to train the model. It takes the training data and the corresponding labels (or target values) and fits the model’s parameters (weights and biases) to this data.\n",
        "\n",
        "* x_train: This is the array of input features that you’re using to train the model. In the context of your dataset, it contains the independent variable values.\n",
        "\n",
        "* y_train: This is the array of target values that correspond to x_train. The model will try to predict these values as accurately as possible after being trained.\n",
        "\n",
        "* epochs=500: This parameter specifies the number of times the training process will work through the entire dataset. An epoch is one complete pass through all the training data. Here, you’re setting it to 500, meaning the model will go through the data 500 times.\n",
        "\n",
        "* verbose=0: This parameter controls the verbosity of the output during the training process. Setting verbose=0 means that no output will be shown in the console while the model is training, which can be useful if you don’t need to see the progress or if you’re running the training in a non-interactive environment.\n",
        "\n",
        "In summary, this line of code is where the actual learning happens. The model uses the input and output data to learn the underlying patterns, adjusting its internal parameters through 500 iterations of the dataset, all while providing no output messages during the process."
      ],
      "metadata": {
        "id": "dxew4bRqdhHq"
      }
    },
    {
      "cell_type": "code",
      "metadata": {
        "id": "kyq1vAyoyEU6",
        "colab": {
          "base_uri": "https://localhost:8080/"
        },
        "outputId": "c83e782f-8909-4b61-cc3c-34d511bea6e6"
      },
      "source": [
        "model.fit(x_train, y_train, epochs=500, verbose=0)\n",
        "print('Training completed')"
      ],
      "execution_count": null,
      "outputs": [
        {
          "output_type": "stream",
          "name": "stdout",
          "text": [
            "Training completed\n"
          ]
        }
      ]
    },
    {
      "cell_type": "markdown",
      "source": [
        "## 5. Testing the trained model\n",
        "\n",
        "The code provided bewlow is used to test a trained neural network model on new data and to output the model’s predictions.\n",
        "\n",
        "* x_test = np.array([44,6,100,31,32]): This line creates a NumPy array named x_test that contains new input data. These values are what you want the model to make predictions on, and they haven’t been seen by the model during the training phase.\n",
        "\n",
        "* y_pred = model.predict(x_test): This line uses the predict method of the trained model to generate predictions for the input data in x_test. The model will output its best guess for the corresponding target values based on what it has learned during training. The predictions are stored in the variable y_pred.\n",
        "\n",
        "* print(y_pred): Finally, this line prints out the predictions stored in y_pred. The output will be an array of values, each corresponding to the model’s prediction for each input in the x_test array.\n",
        "\n",
        "In summary, this snippet is used to evaluate how well the neural network has learned to generalize from the training data by making predictions on new, unseen data. The print statement at the end displays these predictions."
      ],
      "metadata": {
        "id": "_qiaNaQEeLvf"
      }
    },
    {
      "cell_type": "code",
      "source": [
        "x_test = np.array([44,6,100,31,32])\n",
        "y_pred = model.predict(x_test)\n",
        "print(y_pred)"
      ],
      "metadata": {
        "colab": {
          "base_uri": "https://localhost:8080/"
        },
        "id": "A1iCDwpLahHh",
        "outputId": "39ef06ca-cca1-4ad1-f738-806db79e6fb8"
      },
      "execution_count": null,
      "outputs": [
        {
          "output_type": "stream",
          "name": "stdout",
          "text": [
            "1/1 [==============================] - 0s 109ms/step\n",
            "[[ 45.078987 ]\n",
            " [  6.9881697]\n",
            " [101.212814 ]\n",
            " [ 32.047913 ]\n",
            " [ 33.05031  ]]\n"
          ]
        }
      ]
    },
    {
      "cell_type": "markdown",
      "source": [
        "## 6. Hands On Exercise\n",
        "\n",
        "To increase the accuracy of a machine learning model, adding more training data can be very effective.\n",
        "\n",
        "* Generate More Data Points: Create additional data points that follow the same trend as the original dataset by adding more values to x_train and y_train. Ensure that the new points align with that linearity.\n",
        "\n",
        "* Re-train the Model: Use the updated dataset to train your model again. With more data, the model has a better chance of learning the underlying pattern and thus improving its accuracy.\n",
        "\n",
        "* Evaluate the Changes: After re-training, evaluate the model’s performance on a test set. Compare the results with the previous training to see if there’s an improvement in accuracy.\n",
        "\n",
        "* Iterate as Needed: Machine learning is an iterative process. If the accuracy isn’t satisfactory, you may need to add even more data or consider other factors such as feature engineering, model complexity, or hyperparameter tuning.\n",
        "\n",
        "* Expected Outcome: By increasing the size of the training dataset, the model should have more examples to learn from, which typically leads to better generalization and higher accuracy when making predictions on new, unseen data."
      ],
      "metadata": {
        "id": "j3CQKBhjfNoa"
      }
    },
    {
      "cell_type": "markdown",
      "source": [
        "## References:\n",
        "* TensorFlow: https://www.tensorflow.org/tutorials\n",
        "* Keras: https://keras.io/examples/\n",
        "\n",
        "## License:\n",
        "Copyright (c) 2024 Ugur Uysal\n",
        "\n",
        "Licensed under the Apache License, Version 2.0 (the \"License\");\n",
        "you may not use this file except in compliance with the License.\n",
        "You may obtain a copy of the License at http://www.apache.org/licenses/LICENSE-2.0\n",
        "\n",
        "Unless required by applicable law or agreed to in writing, software\n",
        "distributed under the License is distributed on an \"AS IS\" BASIS,\n",
        "WITHOUT WARRANTIES OR CONDITIONS OF ANY KIND, either express or implied.\n",
        "See the License for the specific language governing permissions and\n",
        "limitations under the License.\n",
        "\n",
        "## Thank you. Visit my personal GitHub page https://github.com/UgurUysal86 for more examples."
      ],
      "metadata": {
        "id": "F7dObTmQosFB"
      }
    }
  ]
}