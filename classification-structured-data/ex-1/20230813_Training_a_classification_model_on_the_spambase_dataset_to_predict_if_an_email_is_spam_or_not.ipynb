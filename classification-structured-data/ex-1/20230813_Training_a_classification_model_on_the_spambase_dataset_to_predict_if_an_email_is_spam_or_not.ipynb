{
  "nbformat": 4,
  "nbformat_minor": 0,
  "metadata": {
    "colab": {
      "provenance": [],
      "gpuType": "T4",
      "include_colab_link": true
    },
    "kernelspec": {
      "name": "python3",
      "display_name": "Python 3"
    },
    "accelerator": "GPU"
  },
  "cells": [
    {
      "cell_type": "markdown",
      "metadata": {
        "id": "view-in-github",
        "colab_type": "text"
      },
      "source": [
        "<a href=\"https://colab.research.google.com/github/UgurUysal86/My-ML-Notebooks/blob/main/classification-structured-data/ex-1/20230813_Training_a_classification_model_on_the_spambase_dataset_to_predict_if_an_email_is_spam_or_not.ipynb\" target=\"_parent\"><img src=\"https://colab.research.google.com/assets/colab-badge.svg\" alt=\"Open In Colab\"/></a>"
      ]
    },
    {
      "cell_type": "markdown",
      "source": [
        "# [Ugur Uysal](https://github.com/UgurUysal86 ) - ugur.uysal.86@gmail.com - 13. AUG 2023\n",
        "# Training a classification model on the spambase dataset to predict if an email is spam or not\n",
        "The purpose of training a classifier on the Spambase dataset is to create a model that can accurately classify Email as Spam or Non-Spam. This notebook demonstrates the process of training a neural network-based classification model utilizing tensorflow.keras and Keras Tuner on the Spambase Data Set.\n",
        "\n",
        "* Official public source of the dataset: http://archive.ics.uci.edu/dataset/94/spambase"
      ],
      "metadata": {
        "id": "s9kniuNobBZC"
      }
    },
    {
      "cell_type": "markdown",
      "source": [
        "# 0. Preparing the colab environment"
      ],
      "metadata": {
        "id": "zU1g5LbFyJQ4"
      }
    },
    {
      "cell_type": "markdown",
      "source": [
        "## 0.1 Checking GPU availablity"
      ],
      "metadata": {
        "id": "be8JOm_tBUsh"
      }
    },
    {
      "cell_type": "markdown",
      "source": [
        "The following code checks if a GPU is available for use in a Google Colab environment. It imports the TensorFlow library and the device_lib module, then iterates through the available devices to check for a GPU. If a GPU is found, its details are printed."
      ],
      "metadata": {
        "id": "m_oF3raGpZwZ"
      }
    },
    {
      "cell_type": "code",
      "metadata": {
        "id": "qvsbe4K1I6Ib",
        "colab": {
          "base_uri": "https://localhost:8080/"
        },
        "outputId": "c476972f-7435-4c69-b364-99317585e85e"
      },
      "source": [
        "import tensorflow as tf\n",
        "print(\"Using Tensorflow Version\", tf.__version__, \"\\n\")\n",
        "\n",
        "# validating COLAB GPU\n",
        "from tensorflow.python.client import device_lib\n",
        "for x in device_lib.list_local_devices():\n",
        "   if x.device_type == \"GPU\":\n",
        "     print(\"***** GPU Information *****\")\n",
        "     print(\"Device Name: \" , x.name)\n",
        "     print(\"Memory Limit: \" , \"%.2f\" % float(x.memory_limit/(1000*1000*1000)), \"GB\")\n",
        "     print(\"Description: \" , x.physical_device_desc)\n",
        "\n",
        "gpu_info = !nvidia-smi\n",
        "gpu_info = '\\n'.join(gpu_info)\n",
        "if gpu_info.find('failed') >= 0:\n",
        "  print('Not connected to a GPU')\n",
        "else:\n",
        "  print(gpu_info)"
      ],
      "execution_count": null,
      "outputs": [
        {
          "output_type": "stream",
          "name": "stdout",
          "text": [
            "Using Tensorflow Version 2.12.0 \n",
            "\n",
            "***** GPU Information *****\n",
            "Device Name:  /device:GPU:0\n",
            "Memory Limit:  14.33 GB\n",
            "Description:  device: 0, name: Tesla T4, pci bus id: 0000:00:04.0, compute capability: 7.5\n",
            "Sun Aug 13 22:28:24 2023       \n",
            "+-----------------------------------------------------------------------------+\n",
            "| NVIDIA-SMI 525.105.17   Driver Version: 525.105.17   CUDA Version: 12.0     |\n",
            "|-------------------------------+----------------------+----------------------+\n",
            "| GPU  Name        Persistence-M| Bus-Id        Disp.A | Volatile Uncorr. ECC |\n",
            "| Fan  Temp  Perf  Pwr:Usage/Cap|         Memory-Usage | GPU-Util  Compute M. |\n",
            "|                               |                      |               MIG M. |\n",
            "|===============================+======================+======================|\n",
            "|   0  Tesla T4            Off  | 00000000:00:04.0 Off |                    0 |\n",
            "| N/A   57C    P0    29W /  70W |    387MiB / 15360MiB |      5%      Default |\n",
            "|                               |                      |                  N/A |\n",
            "+-------------------------------+----------------------+----------------------+\n",
            "                                                                               \n",
            "+-----------------------------------------------------------------------------+\n",
            "| Processes:                                                                  |\n",
            "|  GPU   GI   CI        PID   Type   Process name                  GPU Memory |\n",
            "|        ID   ID                                                   Usage      |\n",
            "|=============================================================================|\n",
            "+-----------------------------------------------------------------------------+\n"
          ]
        }
      ]
    },
    {
      "cell_type": "markdown",
      "source": [
        "## 0.2 Importing more python packages used for this notebook"
      ],
      "metadata": {
        "id": "1UG3OC0-ApUO"
      }
    },
    {
      "cell_type": "code",
      "source": [
        "import pandas as pd\n",
        "import numpy as np\n",
        "import matplotlib.pyplot as plt\n",
        "import seaborn as sns\n",
        "from sklearn.model_selection import train_test_split\n",
        "from sklearn.preprocessing import StandardScaler\n",
        "from sklearn.neighbors import KNeighborsClassifier\n",
        "from sklearn.metrics import accuracy_score\n",
        "from sklearn.metrics import ConfusionMatrixDisplay\n",
        "from sklearn.metrics import classification_report\n",
        "from sklearn.metrics import roc_curve\n",
        "from sklearn.manifold import TSNE"
      ],
      "metadata": {
        "id": "sHG_f-nuAnbT"
      },
      "execution_count": null,
      "outputs": []
    },
    {
      "cell_type": "markdown",
      "source": [
        "# 1. Downloading and preprocessing the dataset"
      ],
      "metadata": {
        "id": "xZot2sLJ1n8R"
      }
    },
    {
      "cell_type": "markdown",
      "source": [
        "## 1.1. Downloading the dataset\n",
        "The following code downloads the Dataset from its original source and saves it in the Colab environment."
      ],
      "metadata": {
        "id": "2F4eqyharW5H"
      }
    },
    {
      "cell_type": "code",
      "source": [
        "# Downloading the spambase dataset and saving temporary in Colab\n",
        "print (\"Loading dataset ...\")\n",
        "!wget --no-check-certificate \\\n",
        "    \"https://archive.ics.uci.edu/ml/machine-learning-databases/spambase/spambase.data\" \\\n",
        "    -O /tmp/spambase.data.csv\n",
        "\n",
        "dataset_path = '/tmp/spambase.data.csv'\n",
        "print (\"Dataset successfully loaded\")"
      ],
      "metadata": {
        "colab": {
          "base_uri": "https://localhost:8080/"
        },
        "id": "AlZk4EXqjeWW",
        "outputId": "2cf1798e-9e52-42f1-a943-cf7a06d5c139"
      },
      "execution_count": null,
      "outputs": [
        {
          "output_type": "stream",
          "name": "stdout",
          "text": [
            "Loading dataset ...\n",
            "--2023-08-13 22:28:30--  https://archive.ics.uci.edu/ml/machine-learning-databases/spambase/spambase.data\n",
            "Resolving archive.ics.uci.edu (archive.ics.uci.edu)... 128.195.10.252\n",
            "Connecting to archive.ics.uci.edu (archive.ics.uci.edu)|128.195.10.252|:443... connected.\n",
            "HTTP request sent, awaiting response... 200 OK\n",
            "Length: unspecified\n",
            "Saving to: ‘/tmp/spambase.data.csv’\n",
            "\n",
            "/tmp/spambase.data.     [ <=>                ] 686.47K  --.-KB/s    in 0.1s    \n",
            "\n",
            "2023-08-13 22:28:31 (5.03 MB/s) - ‘/tmp/spambase.data.csv’ saved [702942]\n",
            "\n",
            "Dataset successfully loaded\n"
          ]
        }
      ]
    },
    {
      "cell_type": "markdown",
      "source": [
        "## 1.2. Saving the dataset in a Pandas Dataframe\n",
        "\n",
        "The following code reads the Spambase Data Set from the dataset_path variable into a Pandas DataFrame called spambase_df. The read_csv function from Pandas to read the dataset from the file specified by dataset_path into a DataFrame. The last line of code uses the head function to display the first 5 rows of the DataFrame."
      ],
      "metadata": {
        "id": "UWEFU159snZ1"
      }
    },
    {
      "cell_type": "code",
      "source": [
        "# https://archive.ics.uci.edu/ml/machine-learning-databases/spambase/spambase.names\n",
        "col_names = ['word_freq_make','word_freq_address','word_freq_all','word_freq_3d','word_freq_our','word_freq_over','word_freq_remove',\t'word_freq_internet','word_freq_order','word_freq_mail',\n",
        "             'word_freq_receive','word_freq_will','word_freq_people','word_freq_report',\t'word_freq_addresses','word_freq_free','word_freq_business','word_freq_email','word_freq_you','word_freq_credit',\n",
        "             'word_freq_your','word_freq_font','word_freq_000','word_freq_money','word_freq_hp','word_freq_hpl','word_freq_george','word_freq_650','word_freq_lab','word_freq_labs',\t'word_freq_telnet',\n",
        "             'word_freq_857','word_freq_data','word_freq_415','word_freq_85','word_freq_technology','word_freq_1999','word_freq_parts',\t'word_freq_pm','word_freq_direct','word_freq_cs','word_freq_meeting',\n",
        "             'word_freq_original','word_freq_project','word_freq_re','word_freq_edu',\t'word_freq_table','word_freq_conference','char_freq_;','char_freq_(','char_freq_[','char_freq_!','char_freq_$','char_freq_#',\n",
        "             'capital_run_length_average', 'capital_run_length_longest', 'capital_run_length_total','label']\n",
        "\n",
        "class_names = ['Non-Spam', 'Spam'] # denotes whether the e-mail was considered Non-Spam (0) or spam (1)\n",
        "\n",
        "# Loading and Exploring the dataset\n",
        "spambase_df = pd.read_csv(dataset_path, header=None, names=col_names)\n",
        "spambase_df.sample(5)"
      ],
      "metadata": {
        "id": "DtoQb0F6mIhj"
      },
      "execution_count": null,
      "outputs": []
    },
    {
      "cell_type": "markdown",
      "source": [
        "## 1.3. Analysis of the dataset\n",
        "\n",
        "The following code defines a function called quick_analysis that takes a Pandas DataFrame as an input and prints out various summary statistics about the data. The function prints the data types of each column, the number of rows and columns, the index range, the column names, the number of null values in each column, the mean value of each column, and the standard deviation of each column.\n",
        "\n",
        "The last line of code calls the quick_analysis function on the spambase_df DataFrame to display summary statistics about the Spambase Dataset."
      ],
      "metadata": {
        "id": "Ujh3OJMIthf1"
      }
    },
    {
      "cell_type": "code",
      "source": [
        "# Quick analysis of the dataset\n",
        "def quick_analysis(df):\n",
        "    print(\"Data Types:\")\n",
        "    print(df.dtypes)\n",
        "    print(\"\\nNumber of Rows and Columns:\")\n",
        "    print(df.shape)\n",
        "    print(\"\\nIndex Range:\")\n",
        "    print(df.index)\n",
        "    print(\"\\nColumn Names:\")\n",
        "    print(df.columns)\n",
        "    print(\"\\nNumber of Null Values:\")\n",
        "    print(df.isnull().sum())\n",
        "    print(\"\\nMean Value:\")\n",
        "    print(df.mean())\n",
        "    print(\"\\nStd Deviation:\")\n",
        "    print(df.std())\n",
        "quick_analysis(spambase_df)"
      ],
      "metadata": {
        "colab": {
          "base_uri": "https://localhost:8080/"
        },
        "id": "QLSSji0d8TG1",
        "outputId": "abe24b04-9259-43fd-b406-3d3f3e5f6fc0"
      },
      "execution_count": null,
      "outputs": [
        {
          "output_type": "stream",
          "name": "stdout",
          "text": [
            "Data Types:\n",
            "word_freq_make                float64\n",
            "word_freq_address             float64\n",
            "word_freq_all                 float64\n",
            "word_freq_3d                  float64\n",
            "word_freq_our                 float64\n",
            "word_freq_over                float64\n",
            "word_freq_remove              float64\n",
            "word_freq_internet            float64\n",
            "word_freq_order               float64\n",
            "word_freq_mail                float64\n",
            "word_freq_receive             float64\n",
            "word_freq_will                float64\n",
            "word_freq_people              float64\n",
            "word_freq_report              float64\n",
            "word_freq_addresses           float64\n",
            "word_freq_free                float64\n",
            "word_freq_business            float64\n",
            "word_freq_email               float64\n",
            "word_freq_you                 float64\n",
            "word_freq_credit              float64\n",
            "word_freq_your                float64\n",
            "word_freq_font                float64\n",
            "word_freq_000                 float64\n",
            "word_freq_money               float64\n",
            "word_freq_hp                  float64\n",
            "word_freq_hpl                 float64\n",
            "word_freq_george              float64\n",
            "word_freq_650                 float64\n",
            "word_freq_lab                 float64\n",
            "word_freq_labs                float64\n",
            "word_freq_telnet              float64\n",
            "word_freq_857                 float64\n",
            "word_freq_data                float64\n",
            "word_freq_415                 float64\n",
            "word_freq_85                  float64\n",
            "word_freq_technology          float64\n",
            "word_freq_1999                float64\n",
            "word_freq_parts               float64\n",
            "word_freq_pm                  float64\n",
            "word_freq_direct              float64\n",
            "word_freq_cs                  float64\n",
            "word_freq_meeting             float64\n",
            "word_freq_original            float64\n",
            "word_freq_project             float64\n",
            "word_freq_re                  float64\n",
            "word_freq_edu                 float64\n",
            "word_freq_table               float64\n",
            "word_freq_conference          float64\n",
            "char_freq_;                   float64\n",
            "char_freq_(                   float64\n",
            "char_freq_[                   float64\n",
            "char_freq_!                   float64\n",
            "char_freq_$                   float64\n",
            "char_freq_#                   float64\n",
            "capital_run_length_average    float64\n",
            "capital_run_length_longest      int64\n",
            "capital_run_length_total        int64\n",
            "label                           int64\n",
            "dtype: object\n",
            "\n",
            "Number of Rows and Columns:\n",
            "(4601, 58)\n",
            "\n",
            "Index Range:\n",
            "RangeIndex(start=0, stop=4601, step=1)\n",
            "\n",
            "Column Names:\n",
            "Index(['word_freq_make', 'word_freq_address', 'word_freq_all', 'word_freq_3d',\n",
            "       'word_freq_our', 'word_freq_over', 'word_freq_remove',\n",
            "       'word_freq_internet', 'word_freq_order', 'word_freq_mail',\n",
            "       'word_freq_receive', 'word_freq_will', 'word_freq_people',\n",
            "       'word_freq_report', 'word_freq_addresses', 'word_freq_free',\n",
            "       'word_freq_business', 'word_freq_email', 'word_freq_you',\n",
            "       'word_freq_credit', 'word_freq_your', 'word_freq_font', 'word_freq_000',\n",
            "       'word_freq_money', 'word_freq_hp', 'word_freq_hpl', 'word_freq_george',\n",
            "       'word_freq_650', 'word_freq_lab', 'word_freq_labs', 'word_freq_telnet',\n",
            "       'word_freq_857', 'word_freq_data', 'word_freq_415', 'word_freq_85',\n",
            "       'word_freq_technology', 'word_freq_1999', 'word_freq_parts',\n",
            "       'word_freq_pm', 'word_freq_direct', 'word_freq_cs', 'word_freq_meeting',\n",
            "       'word_freq_original', 'word_freq_project', 'word_freq_re',\n",
            "       'word_freq_edu', 'word_freq_table', 'word_freq_conference',\n",
            "       'char_freq_;', 'char_freq_(', 'char_freq_[', 'char_freq_!',\n",
            "       'char_freq_$', 'char_freq_#', 'capital_run_length_average',\n",
            "       'capital_run_length_longest', 'capital_run_length_total', 'label'],\n",
            "      dtype='object')\n",
            "\n",
            "Number of Null Values:\n",
            "word_freq_make                0\n",
            "word_freq_address             0\n",
            "word_freq_all                 0\n",
            "word_freq_3d                  0\n",
            "word_freq_our                 0\n",
            "word_freq_over                0\n",
            "word_freq_remove              0\n",
            "word_freq_internet            0\n",
            "word_freq_order               0\n",
            "word_freq_mail                0\n",
            "word_freq_receive             0\n",
            "word_freq_will                0\n",
            "word_freq_people              0\n",
            "word_freq_report              0\n",
            "word_freq_addresses           0\n",
            "word_freq_free                0\n",
            "word_freq_business            0\n",
            "word_freq_email               0\n",
            "word_freq_you                 0\n",
            "word_freq_credit              0\n",
            "word_freq_your                0\n",
            "word_freq_font                0\n",
            "word_freq_000                 0\n",
            "word_freq_money               0\n",
            "word_freq_hp                  0\n",
            "word_freq_hpl                 0\n",
            "word_freq_george              0\n",
            "word_freq_650                 0\n",
            "word_freq_lab                 0\n",
            "word_freq_labs                0\n",
            "word_freq_telnet              0\n",
            "word_freq_857                 0\n",
            "word_freq_data                0\n",
            "word_freq_415                 0\n",
            "word_freq_85                  0\n",
            "word_freq_technology          0\n",
            "word_freq_1999                0\n",
            "word_freq_parts               0\n",
            "word_freq_pm                  0\n",
            "word_freq_direct              0\n",
            "word_freq_cs                  0\n",
            "word_freq_meeting             0\n",
            "word_freq_original            0\n",
            "word_freq_project             0\n",
            "word_freq_re                  0\n",
            "word_freq_edu                 0\n",
            "word_freq_table               0\n",
            "word_freq_conference          0\n",
            "char_freq_;                   0\n",
            "char_freq_(                   0\n",
            "char_freq_[                   0\n",
            "char_freq_!                   0\n",
            "char_freq_$                   0\n",
            "char_freq_#                   0\n",
            "capital_run_length_average    0\n",
            "capital_run_length_longest    0\n",
            "capital_run_length_total      0\n",
            "label                         0\n",
            "dtype: int64\n",
            "\n",
            "Mean Value:\n",
            "word_freq_make                  0.104553\n",
            "word_freq_address               0.213015\n",
            "word_freq_all                   0.280656\n",
            "word_freq_3d                    0.065425\n",
            "word_freq_our                   0.312223\n",
            "word_freq_over                  0.095901\n",
            "word_freq_remove                0.114208\n",
            "word_freq_internet              0.105295\n",
            "word_freq_order                 0.090067\n",
            "word_freq_mail                  0.239413\n",
            "word_freq_receive               0.059824\n",
            "word_freq_will                  0.541702\n",
            "word_freq_people                0.093930\n",
            "word_freq_report                0.058626\n",
            "word_freq_addresses             0.049205\n",
            "word_freq_free                  0.248848\n",
            "word_freq_business              0.142586\n",
            "word_freq_email                 0.184745\n",
            "word_freq_you                   1.662100\n",
            "word_freq_credit                0.085577\n",
            "word_freq_your                  0.809761\n",
            "word_freq_font                  0.121202\n",
            "word_freq_000                   0.101645\n",
            "word_freq_money                 0.094269\n",
            "word_freq_hp                    0.549504\n",
            "word_freq_hpl                   0.265384\n",
            "word_freq_george                0.767305\n",
            "word_freq_650                   0.124845\n",
            "word_freq_lab                   0.098915\n",
            "word_freq_labs                  0.102852\n",
            "word_freq_telnet                0.064753\n",
            "word_freq_857                   0.047048\n",
            "word_freq_data                  0.097229\n",
            "word_freq_415                   0.047835\n",
            "word_freq_85                    0.105412\n",
            "word_freq_technology            0.097477\n",
            "word_freq_1999                  0.136953\n",
            "word_freq_parts                 0.013201\n",
            "word_freq_pm                    0.078629\n",
            "word_freq_direct                0.064834\n",
            "word_freq_cs                    0.043667\n",
            "word_freq_meeting               0.132339\n",
            "word_freq_original              0.046099\n",
            "word_freq_project               0.079196\n",
            "word_freq_re                    0.301224\n",
            "word_freq_edu                   0.179824\n",
            "word_freq_table                 0.005444\n",
            "word_freq_conference            0.031869\n",
            "char_freq_;                     0.038575\n",
            "char_freq_(                     0.139030\n",
            "char_freq_[                     0.016976\n",
            "char_freq_!                     0.269071\n",
            "char_freq_$                     0.075811\n",
            "char_freq_#                     0.044238\n",
            "capital_run_length_average      5.191515\n",
            "capital_run_length_longest     52.172789\n",
            "capital_run_length_total      283.289285\n",
            "label                           0.394045\n",
            "dtype: float64\n",
            "\n",
            "Std Deviation:\n",
            "word_freq_make                  0.305358\n",
            "word_freq_address               1.290575\n",
            "word_freq_all                   0.504143\n",
            "word_freq_3d                    1.395151\n",
            "word_freq_our                   0.672513\n",
            "word_freq_over                  0.273824\n",
            "word_freq_remove                0.391441\n",
            "word_freq_internet              0.401071\n",
            "word_freq_order                 0.278616\n",
            "word_freq_mail                  0.644755\n",
            "word_freq_receive               0.201545\n",
            "word_freq_will                  0.861698\n",
            "word_freq_people                0.301036\n",
            "word_freq_report                0.335184\n",
            "word_freq_addresses             0.258843\n",
            "word_freq_free                  0.825792\n",
            "word_freq_business              0.444055\n",
            "word_freq_email                 0.531122\n",
            "word_freq_you                   1.775481\n",
            "word_freq_credit                0.509767\n",
            "word_freq_your                  1.200810\n",
            "word_freq_font                  1.025756\n",
            "word_freq_000                   0.350286\n",
            "word_freq_money                 0.442636\n",
            "word_freq_hp                    1.671349\n",
            "word_freq_hpl                   0.886955\n",
            "word_freq_george                3.367292\n",
            "word_freq_650                   0.538576\n",
            "word_freq_lab                   0.593327\n",
            "word_freq_labs                  0.456682\n",
            "word_freq_telnet                0.403393\n",
            "word_freq_857                   0.328559\n",
            "word_freq_data                  0.555907\n",
            "word_freq_415                   0.329445\n",
            "word_freq_85                    0.532260\n",
            "word_freq_technology            0.402623\n",
            "word_freq_1999                  0.423451\n",
            "word_freq_parts                 0.220651\n",
            "word_freq_pm                    0.434672\n",
            "word_freq_direct                0.349916\n",
            "word_freq_cs                    0.361205\n",
            "word_freq_meeting               0.766819\n",
            "word_freq_original              0.223812\n",
            "word_freq_project               0.621976\n",
            "word_freq_re                    1.011687\n",
            "word_freq_edu                   0.911119\n",
            "word_freq_table                 0.076274\n",
            "word_freq_conference            0.285735\n",
            "char_freq_;                     0.243471\n",
            "char_freq_(                     0.270355\n",
            "char_freq_[                     0.109394\n",
            "char_freq_!                     0.815672\n",
            "char_freq_$                     0.245882\n",
            "char_freq_#                     0.429342\n",
            "capital_run_length_average     31.729449\n",
            "capital_run_length_longest    194.891310\n",
            "capital_run_length_total      606.347851\n",
            "label                           0.488698\n",
            "dtype: float64\n"
          ]
        }
      ]
    },
    {
      "cell_type": "markdown",
      "source": [
        "##1.4. One-Hot Encoding the Subject Column\n",
        "\n",
        "The following code performs one-hot encoding on the subject column of the spambase_df DataFrame. The map function is used to replace the values in the label column with strings the Non-Spam and 'Spam'. The get_dummies function from Pandas is then used to perform one-hot encoding on the subject column. The resulting DataFrame has a new column for each unique value in the original label column. The last line of code uses the sample function to display a random sample of 5 rows from the resulting DataFrame."
      ],
      "metadata": {
        "id": "nyyX5rus6Pe2"
      }
    },
    {
      "cell_type": "code",
      "source": [
        "# One Hot encoding the labels\n",
        "spambase_df['label'] = spambase_df['label'].map({0: class_names[0], 1: class_names[1]})  # class_names=['Non-Spam', 'Spam'] # denotes whether the e-mail was considered Non-Spam (0) or spam (1)\n",
        "spambase_df = pd.get_dummies(spambase_df, columns=['label'], prefix='', prefix_sep='')\n",
        "spambase_df.sample(5)"
      ],
      "metadata": {
        "colab": {
          "base_uri": "https://localhost:8080/",
          "height": 317
        },
        "id": "XIyV9x6n6R4Y",
        "outputId": "a17ba080-f0bb-4863-885b-5b22edb1c20d"
      },
      "execution_count": null,
      "outputs": [
        {
          "output_type": "execute_result",
          "data": {
            "text/plain": [
              "      word_freq_make  word_freq_address  word_freq_all  word_freq_3d  \\\n",
              "355             0.00               0.00           1.31           0.0   \n",
              "4188            0.00               0.00           0.00           0.0   \n",
              "1208            0.47               0.31           0.47           0.0   \n",
              "1662            0.14               0.18           0.79           0.0   \n",
              "3724            0.00               0.00           0.00           0.0   \n",
              "\n",
              "      word_freq_our  word_freq_over  word_freq_remove  word_freq_internet  \\\n",
              "355            0.00            0.00              0.00                0.00   \n",
              "4188           0.00            0.00              0.00                0.00   \n",
              "1208           0.05            0.15              0.05                0.23   \n",
              "1662           0.04            0.14              0.18                0.28   \n",
              "3724           0.00            0.00              0.00                0.00   \n",
              "\n",
              "      word_freq_order  word_freq_mail  ...  char_freq_(  char_freq_[  \\\n",
              "355              0.00            0.00  ...        0.000          0.0   \n",
              "4188             0.00            0.00  ...        0.102          0.0   \n",
              "1208             0.44            0.76  ...        0.068          0.0   \n",
              "1662             0.28            0.84  ...        0.101          0.0   \n",
              "3724             0.00            0.00  ...        0.000          0.0   \n",
              "\n",
              "      char_freq_!  char_freq_$  char_freq_#  capital_run_length_average  \\\n",
              "355         0.000        0.201        0.000                       4.500   \n",
              "4188        0.000        0.000        0.000                       3.400   \n",
              "1208        0.344        0.784        0.154                       6.094   \n",
              "1662        0.522        0.109        0.062                       5.759   \n",
              "3724        0.000        0.000        0.000                       2.333   \n",
              "\n",
              "      capital_run_length_longest  capital_run_length_total  Non-Spam  Spam  \n",
              "355                           25                        54         0     1  \n",
              "4188                          51                       119         1     0  \n",
              "1208                         193                      3029         0     1  \n",
              "1662                         116                      2062         0     1  \n",
              "3724                           8                        28         1     0  \n",
              "\n",
              "[5 rows x 59 columns]"
            ],
            "text/html": [
              "\n",
              "\n",
              "  <div id=\"df-3dff5d8c-60e7-4525-a6b8-0d8f3f3ce334\">\n",
              "    <div class=\"colab-df-container\">\n",
              "      <div>\n",
              "<style scoped>\n",
              "    .dataframe tbody tr th:only-of-type {\n",
              "        vertical-align: middle;\n",
              "    }\n",
              "\n",
              "    .dataframe tbody tr th {\n",
              "        vertical-align: top;\n",
              "    }\n",
              "\n",
              "    .dataframe thead th {\n",
              "        text-align: right;\n",
              "    }\n",
              "</style>\n",
              "<table border=\"1\" class=\"dataframe\">\n",
              "  <thead>\n",
              "    <tr style=\"text-align: right;\">\n",
              "      <th></th>\n",
              "      <th>word_freq_make</th>\n",
              "      <th>word_freq_address</th>\n",
              "      <th>word_freq_all</th>\n",
              "      <th>word_freq_3d</th>\n",
              "      <th>word_freq_our</th>\n",
              "      <th>word_freq_over</th>\n",
              "      <th>word_freq_remove</th>\n",
              "      <th>word_freq_internet</th>\n",
              "      <th>word_freq_order</th>\n",
              "      <th>word_freq_mail</th>\n",
              "      <th>...</th>\n",
              "      <th>char_freq_(</th>\n",
              "      <th>char_freq_[</th>\n",
              "      <th>char_freq_!</th>\n",
              "      <th>char_freq_$</th>\n",
              "      <th>char_freq_#</th>\n",
              "      <th>capital_run_length_average</th>\n",
              "      <th>capital_run_length_longest</th>\n",
              "      <th>capital_run_length_total</th>\n",
              "      <th>Non-Spam</th>\n",
              "      <th>Spam</th>\n",
              "    </tr>\n",
              "  </thead>\n",
              "  <tbody>\n",
              "    <tr>\n",
              "      <th>355</th>\n",
              "      <td>0.00</td>\n",
              "      <td>0.00</td>\n",
              "      <td>1.31</td>\n",
              "      <td>0.0</td>\n",
              "      <td>0.00</td>\n",
              "      <td>0.00</td>\n",
              "      <td>0.00</td>\n",
              "      <td>0.00</td>\n",
              "      <td>0.00</td>\n",
              "      <td>0.00</td>\n",
              "      <td>...</td>\n",
              "      <td>0.000</td>\n",
              "      <td>0.0</td>\n",
              "      <td>0.000</td>\n",
              "      <td>0.201</td>\n",
              "      <td>0.000</td>\n",
              "      <td>4.500</td>\n",
              "      <td>25</td>\n",
              "      <td>54</td>\n",
              "      <td>0</td>\n",
              "      <td>1</td>\n",
              "    </tr>\n",
              "    <tr>\n",
              "      <th>4188</th>\n",
              "      <td>0.00</td>\n",
              "      <td>0.00</td>\n",
              "      <td>0.00</td>\n",
              "      <td>0.0</td>\n",
              "      <td>0.00</td>\n",
              "      <td>0.00</td>\n",
              "      <td>0.00</td>\n",
              "      <td>0.00</td>\n",
              "      <td>0.00</td>\n",
              "      <td>0.00</td>\n",
              "      <td>...</td>\n",
              "      <td>0.102</td>\n",
              "      <td>0.0</td>\n",
              "      <td>0.000</td>\n",
              "      <td>0.000</td>\n",
              "      <td>0.000</td>\n",
              "      <td>3.400</td>\n",
              "      <td>51</td>\n",
              "      <td>119</td>\n",
              "      <td>1</td>\n",
              "      <td>0</td>\n",
              "    </tr>\n",
              "    <tr>\n",
              "      <th>1208</th>\n",
              "      <td>0.47</td>\n",
              "      <td>0.31</td>\n",
              "      <td>0.47</td>\n",
              "      <td>0.0</td>\n",
              "      <td>0.05</td>\n",
              "      <td>0.15</td>\n",
              "      <td>0.05</td>\n",
              "      <td>0.23</td>\n",
              "      <td>0.44</td>\n",
              "      <td>0.76</td>\n",
              "      <td>...</td>\n",
              "      <td>0.068</td>\n",
              "      <td>0.0</td>\n",
              "      <td>0.344</td>\n",
              "      <td>0.784</td>\n",
              "      <td>0.154</td>\n",
              "      <td>6.094</td>\n",
              "      <td>193</td>\n",
              "      <td>3029</td>\n",
              "      <td>0</td>\n",
              "      <td>1</td>\n",
              "    </tr>\n",
              "    <tr>\n",
              "      <th>1662</th>\n",
              "      <td>0.14</td>\n",
              "      <td>0.18</td>\n",
              "      <td>0.79</td>\n",
              "      <td>0.0</td>\n",
              "      <td>0.04</td>\n",
              "      <td>0.14</td>\n",
              "      <td>0.18</td>\n",
              "      <td>0.28</td>\n",
              "      <td>0.28</td>\n",
              "      <td>0.84</td>\n",
              "      <td>...</td>\n",
              "      <td>0.101</td>\n",
              "      <td>0.0</td>\n",
              "      <td>0.522</td>\n",
              "      <td>0.109</td>\n",
              "      <td>0.062</td>\n",
              "      <td>5.759</td>\n",
              "      <td>116</td>\n",
              "      <td>2062</td>\n",
              "      <td>0</td>\n",
              "      <td>1</td>\n",
              "    </tr>\n",
              "    <tr>\n",
              "      <th>3724</th>\n",
              "      <td>0.00</td>\n",
              "      <td>0.00</td>\n",
              "      <td>0.00</td>\n",
              "      <td>0.0</td>\n",
              "      <td>0.00</td>\n",
              "      <td>0.00</td>\n",
              "      <td>0.00</td>\n",
              "      <td>0.00</td>\n",
              "      <td>0.00</td>\n",
              "      <td>0.00</td>\n",
              "      <td>...</td>\n",
              "      <td>0.000</td>\n",
              "      <td>0.0</td>\n",
              "      <td>0.000</td>\n",
              "      <td>0.000</td>\n",
              "      <td>0.000</td>\n",
              "      <td>2.333</td>\n",
              "      <td>8</td>\n",
              "      <td>28</td>\n",
              "      <td>1</td>\n",
              "      <td>0</td>\n",
              "    </tr>\n",
              "  </tbody>\n",
              "</table>\n",
              "<p>5 rows × 59 columns</p>\n",
              "</div>\n",
              "      <button class=\"colab-df-convert\" onclick=\"convertToInteractive('df-3dff5d8c-60e7-4525-a6b8-0d8f3f3ce334')\"\n",
              "              title=\"Convert this dataframe to an interactive table.\"\n",
              "              style=\"display:none;\">\n",
              "\n",
              "  <svg xmlns=\"http://www.w3.org/2000/svg\" height=\"24px\"viewBox=\"0 0 24 24\"\n",
              "       width=\"24px\">\n",
              "    <path d=\"M0 0h24v24H0V0z\" fill=\"none\"/>\n",
              "    <path d=\"M18.56 5.44l.94 2.06.94-2.06 2.06-.94-2.06-.94-.94-2.06-.94 2.06-2.06.94zm-11 1L8.5 8.5l.94-2.06 2.06-.94-2.06-.94L8.5 2.5l-.94 2.06-2.06.94zm10 10l.94 2.06.94-2.06 2.06-.94-2.06-.94-.94-2.06-.94 2.06-2.06.94z\"/><path d=\"M17.41 7.96l-1.37-1.37c-.4-.4-.92-.59-1.43-.59-.52 0-1.04.2-1.43.59L10.3 9.45l-7.72 7.72c-.78.78-.78 2.05 0 2.83L4 21.41c.39.39.9.59 1.41.59.51 0 1.02-.2 1.41-.59l7.78-7.78 2.81-2.81c.8-.78.8-2.07 0-2.86zM5.41 20L4 18.59l7.72-7.72 1.47 1.35L5.41 20z\"/>\n",
              "  </svg>\n",
              "      </button>\n",
              "\n",
              "\n",
              "\n",
              "    <div id=\"df-70984114-6b0c-46bf-9495-6b7cb25a01e8\">\n",
              "      <button class=\"colab-df-quickchart\" onclick=\"quickchart('df-70984114-6b0c-46bf-9495-6b7cb25a01e8')\"\n",
              "              title=\"Suggest charts.\"\n",
              "              style=\"display:none;\">\n",
              "\n",
              "<svg xmlns=\"http://www.w3.org/2000/svg\" height=\"24px\"viewBox=\"0 0 24 24\"\n",
              "     width=\"24px\">\n",
              "    <g>\n",
              "        <path d=\"M19 3H5c-1.1 0-2 .9-2 2v14c0 1.1.9 2 2 2h14c1.1 0 2-.9 2-2V5c0-1.1-.9-2-2-2zM9 17H7v-7h2v7zm4 0h-2V7h2v10zm4 0h-2v-4h2v4z\"/>\n",
              "    </g>\n",
              "</svg>\n",
              "      </button>\n",
              "    </div>\n",
              "\n",
              "<style>\n",
              "  .colab-df-quickchart {\n",
              "    background-color: #E8F0FE;\n",
              "    border: none;\n",
              "    border-radius: 50%;\n",
              "    cursor: pointer;\n",
              "    display: none;\n",
              "    fill: #1967D2;\n",
              "    height: 32px;\n",
              "    padding: 0 0 0 0;\n",
              "    width: 32px;\n",
              "  }\n",
              "\n",
              "  .colab-df-quickchart:hover {\n",
              "    background-color: #E2EBFA;\n",
              "    box-shadow: 0px 1px 2px rgba(60, 64, 67, 0.3), 0px 1px 3px 1px rgba(60, 64, 67, 0.15);\n",
              "    fill: #174EA6;\n",
              "  }\n",
              "\n",
              "  [theme=dark] .colab-df-quickchart {\n",
              "    background-color: #3B4455;\n",
              "    fill: #D2E3FC;\n",
              "  }\n",
              "\n",
              "  [theme=dark] .colab-df-quickchart:hover {\n",
              "    background-color: #434B5C;\n",
              "    box-shadow: 0px 1px 3px 1px rgba(0, 0, 0, 0.15);\n",
              "    filter: drop-shadow(0px 1px 2px rgba(0, 0, 0, 0.3));\n",
              "    fill: #FFFFFF;\n",
              "  }\n",
              "</style>\n",
              "\n",
              "    <script>\n",
              "      async function quickchart(key) {\n",
              "        const containerElement = document.querySelector('#' + key);\n",
              "        const charts = await google.colab.kernel.invokeFunction(\n",
              "            'suggestCharts', [key], {});\n",
              "      }\n",
              "    </script>\n",
              "\n",
              "      <script>\n",
              "\n",
              "function displayQuickchartButton(domScope) {\n",
              "  let quickchartButtonEl =\n",
              "    domScope.querySelector('#df-70984114-6b0c-46bf-9495-6b7cb25a01e8 button.colab-df-quickchart');\n",
              "  quickchartButtonEl.style.display =\n",
              "    google.colab.kernel.accessAllowed ? 'block' : 'none';\n",
              "}\n",
              "\n",
              "        displayQuickchartButton(document);\n",
              "      </script>\n",
              "      <style>\n",
              "    .colab-df-container {\n",
              "      display:flex;\n",
              "      flex-wrap:wrap;\n",
              "      gap: 12px;\n",
              "    }\n",
              "\n",
              "    .colab-df-convert {\n",
              "      background-color: #E8F0FE;\n",
              "      border: none;\n",
              "      border-radius: 50%;\n",
              "      cursor: pointer;\n",
              "      display: none;\n",
              "      fill: #1967D2;\n",
              "      height: 32px;\n",
              "      padding: 0 0 0 0;\n",
              "      width: 32px;\n",
              "    }\n",
              "\n",
              "    .colab-df-convert:hover {\n",
              "      background-color: #E2EBFA;\n",
              "      box-shadow: 0px 1px 2px rgba(60, 64, 67, 0.3), 0px 1px 3px 1px rgba(60, 64, 67, 0.15);\n",
              "      fill: #174EA6;\n",
              "    }\n",
              "\n",
              "    [theme=dark] .colab-df-convert {\n",
              "      background-color: #3B4455;\n",
              "      fill: #D2E3FC;\n",
              "    }\n",
              "\n",
              "    [theme=dark] .colab-df-convert:hover {\n",
              "      background-color: #434B5C;\n",
              "      box-shadow: 0px 1px 3px 1px rgba(0, 0, 0, 0.15);\n",
              "      filter: drop-shadow(0px 1px 2px rgba(0, 0, 0, 0.3));\n",
              "      fill: #FFFFFF;\n",
              "    }\n",
              "  </style>\n",
              "\n",
              "      <script>\n",
              "        const buttonEl =\n",
              "          document.querySelector('#df-3dff5d8c-60e7-4525-a6b8-0d8f3f3ce334 button.colab-df-convert');\n",
              "        buttonEl.style.display =\n",
              "          google.colab.kernel.accessAllowed ? 'block' : 'none';\n",
              "\n",
              "        async function convertToInteractive(key) {\n",
              "          const element = document.querySelector('#df-3dff5d8c-60e7-4525-a6b8-0d8f3f3ce334');\n",
              "          const dataTable =\n",
              "            await google.colab.kernel.invokeFunction('convertToInteractive',\n",
              "                                                     [key], {});\n",
              "          if (!dataTable) return;\n",
              "\n",
              "          const docLinkHtml = 'Like what you see? Visit the ' +\n",
              "            '<a target=\"_blank\" href=https://colab.research.google.com/notebooks/data_table.ipynb>data table notebook</a>'\n",
              "            + ' to learn more about interactive tables.';\n",
              "          element.innerHTML = '';\n",
              "          dataTable['output_type'] = 'display_data';\n",
              "          await google.colab.output.renderOutput(dataTable, element);\n",
              "          const docLink = document.createElement('div');\n",
              "          docLink.innerHTML = docLinkHtml;\n",
              "          element.appendChild(docLink);\n",
              "        }\n",
              "      </script>\n",
              "    </div>\n",
              "  </div>\n"
            ]
          },
          "metadata": {},
          "execution_count": 8
        }
      ]
    },
    {
      "cell_type": "markdown",
      "source": [
        "## 1.5. Separating Targets from Features\n",
        "\n",
        "The following code separates the target values from the feature values in the spambase_df DataFrame. The features variable is assigned the values of specific columns in the DataFrame using the loc function. These columns represent the features used to make predictions.\n",
        "\n",
        "The targets variable is assigned the values of specific columns in the DataFrame using the loc function. These columns represent the target values that the model will try to predict.\n",
        "\n",
        "The last few lines of code print out information about the features and targets variables, including their data types and shapes."
      ],
      "metadata": {
        "id": "dWpVBF0-vJSp"
      }
    },
    {
      "cell_type": "code",
      "source": [
        "# separating targets from features\n",
        "features = spambase_df.iloc[:,:57].values # The first 57 columns are features (x)\n",
        "targets  = spambase_df.iloc[:,57:].values # The last 2 columns has the one hot encoded labels (y)\n",
        "\n",
        "print('features:\\n',type(features))\n",
        "print(np.shape(features))\n",
        "print('\\ntargets:\\n',type(targets))\n",
        "print(np.shape(targets))\n",
        "\n",
        "print('\\nThe class distribution of the spambase dataset (',class_names[0],',',class_names[1],') is (', len(spambase_df[spambase_df['Non-Spam']==1]), ',', len(spambase_df[spambase_df['Spam']==1]), ')')"
      ],
      "metadata": {
        "colab": {
          "base_uri": "https://localhost:8080/"
        },
        "id": "kDUmdsLH87XP",
        "outputId": "183b906f-dd78-4414-e728-46a6e4e5dd4d"
      },
      "execution_count": null,
      "outputs": [
        {
          "output_type": "stream",
          "name": "stdout",
          "text": [
            "features:\n",
            " <class 'numpy.ndarray'>\n",
            "(4601, 57)\n",
            "\n",
            "targets:\n",
            " <class 'numpy.ndarray'>\n",
            "(4601, 2)\n",
            "\n",
            "The class distribution of the spambase dataset ( Non-Spam , Spam ) is ( 2788 , 1813 )\n"
          ]
        }
      ]
    },
    {
      "cell_type": "markdown",
      "source": [
        "## 1.6. Standardizing Features and Splitting Data into Training and Test Sets\n",
        "\n",
        "The folowing code standardizes the features array and splits the data into training and test sets.\n",
        "\n",
        "First, the train_test_split and StandardScaler functions are imported from the sklearn library. Then, a StandardScaler object is created and used to standardize the features array by calling its fit_transform method. This method calculates the mean and standard deviation of each feature in the training data, then scales the data by subtracting the mean and dividing by the standard deviation. The resulting standardized features are stored in a new variable called features_standardized.\n",
        "\n",
        "Next, the train_test_split function is used to split the standardized features and targets into training and test sets. The test set size is specified as 10% of the total data, and a random state is set for reproducibility. The resulting training and test sets for both features and targets are stored in separate variables.\n",
        "\n",
        "Finally, the shapes of the training and test sets for both features and targets are printed to show their dimensions."
      ],
      "metadata": {
        "id": "9zu2A_iOwMDn"
      }
    },
    {
      "cell_type": "code",
      "source": [
        "# preprocessing - standardize the features array using sklearn standard scaler\n",
        "standardizer = StandardScaler()\n",
        "features_standardized = standardizer.fit_transform(features)\n",
        "\n",
        "# Split data into training and test set\n",
        "train_x, test_x, train_y, test_y = train_test_split(features_standardized, targets, test_size=0.1, random_state=0)\n",
        "print('train_x.shape', train_x.shape)\n",
        "print('train_y.shape', train_y.shape)\n",
        "print('test_x.shape', test_x.shape)\n",
        "print('test_y.shape', test_y.shape)"
      ],
      "metadata": {
        "colab": {
          "base_uri": "https://localhost:8080/"
        },
        "id": "3I7Jz-eV-V-s",
        "outputId": "e23eefd3-6be9-497f-9b88-cabe34fdc3c4"
      },
      "execution_count": null,
      "outputs": [
        {
          "output_type": "stream",
          "name": "stdout",
          "text": [
            "train_x.shape (4140, 57)\n",
            "train_y.shape (4140, 2)\n",
            "test_x.shape (461, 57)\n",
            "test_y.shape (461, 2)\n"
          ]
        }
      ]
    },
    {
      "cell_type": "markdown",
      "source": [
        "# 2. Training a baseline model\n",
        "\n",
        "Starting with a simple baseline model provides a point of reference for evaluating the more complex model which will be trained in the following section. The baseline model helps to identify issues early on, and ensures that added complexity is justified by an improvement in performance."
      ],
      "metadata": {
        "id": "3vNQdvZoghbL"
      }
    },
    {
      "cell_type": "markdown",
      "source": [
        "## 2.1. Training a k-nearest neighbors classifier and predicting labels of the testset\n",
        "The following code uses a k-nearest neighbors (K-NN) classifier from the scikit-learn library to train a model and make predictions on the test set. The code is iterating over a range of values for the n_neighbors parameter, which specifies the number of nearest neighbors to include in the majority voting process. For each value of n_neighbors, a KNeighborsClassifier object is created and trained on the training data train_x and train_y. Then, the classifier is used to predict the labels for the test data test_x. The accuracy of the predictions is calculated by comparing the predicted labels to the true labels test_y using the accuracy_score function. Finally, the accuracy score for each value of n_neighbors is printed.\n"
      ],
      "metadata": {
        "id": "IVDuKZsP41VN"
      }
    },
    {
      "cell_type": "code",
      "source": [
        "# Finding the best value for n_neighbors to train the k-nearest neighbors classifier\n",
        "for i in range(1,11):\n",
        "  classifier = KNeighborsClassifier(n_neighbors = i)\n",
        "  classifier.fit(train_x, train_y)\n",
        "  predicted_labels = classifier.predict(test_x)\n",
        "  score = accuracy_score(test_y, predicted_labels)\n",
        "  print('The Accuracy_score of the KNeighborsClassifier for n_neighbors =', i, 'is', score)"
      ],
      "metadata": {
        "colab": {
          "base_uri": "https://localhost:8080/"
        },
        "id": "FfUiUayvrtpr",
        "outputId": "af81e160-21a1-4dd6-b583-c36a54f69c56"
      },
      "execution_count": null,
      "outputs": [
        {
          "output_type": "stream",
          "name": "stdout",
          "text": [
            "The Accuracy_score of the KNeighborsClassifier for n_neighbors = 1 is 0.93058568329718\n",
            "The Accuracy_score of the KNeighborsClassifier for n_neighbors = 2 is 0.8633405639913232\n",
            "The Accuracy_score of the KNeighborsClassifier for n_neighbors = 3 is 0.9327548806941431\n",
            "The Accuracy_score of the KNeighborsClassifier for n_neighbors = 4 is 0.89587852494577\n",
            "The Accuracy_score of the KNeighborsClassifier for n_neighbors = 5 is 0.928416485900217\n",
            "The Accuracy_score of the KNeighborsClassifier for n_neighbors = 6 is 0.9067245119305857\n",
            "The Accuracy_score of the KNeighborsClassifier for n_neighbors = 7 is 0.9197396963123644\n",
            "The Accuracy_score of the KNeighborsClassifier for n_neighbors = 8 is 0.8980477223427332\n",
            "The Accuracy_score of the KNeighborsClassifier for n_neighbors = 9 is 0.9240780911062907\n",
            "The Accuracy_score of the KNeighborsClassifier for n_neighbors = 10 is 0.8937093275488069\n"
          ]
        }
      ]
    },
    {
      "cell_type": "code",
      "source": [
        "# Using the best value for n_neighbors to train the k-nearest neighbors classifier\n",
        "classifier = KNeighborsClassifier(n_neighbors = 3)\n",
        "classifier.fit(train_x, train_y)\n",
        "predicted_labels = classifier.predict(test_x)\n",
        "print('The Accuracy_score of the KNeighborsClassifier is', accuracy_score(test_y, predicted_labels))"
      ],
      "metadata": {
        "id": "oLMvqbRfFAF8",
        "colab": {
          "base_uri": "https://localhost:8080/"
        },
        "outputId": "255da01d-d9ae-4a7d-b50f-ceffb0b28a3d"
      },
      "execution_count": null,
      "outputs": [
        {
          "output_type": "stream",
          "name": "stdout",
          "text": [
            "The Accuracy_score of the KNeighborsClassifier is 0.9327548806941431\n"
          ]
        }
      ]
    },
    {
      "cell_type": "markdown",
      "source": [
        "## 2.2. Evaluating the performance of the k-nearest neighbors classifier\n",
        "\n",
        "The following code evaluates the performance of the trained k-nearest neighbors classifier on the test data using various performance metrics from the scikit-learn library.\n",
        "\n"
      ],
      "metadata": {
        "id": "VubLo7sT7zjF"
      }
    },
    {
      "cell_type": "code",
      "source": [
        "print('\\nConfusion matrix')\n",
        "plt.rcParams['figure.figsize'] = [12, 12]\n",
        "ConfusionMatrixDisplay.from_predictions(test_y.argmax(axis=1), predicted_labels.argmax(axis=1), display_labels=class_names, xticks_rotation='vertical')\n",
        "plt.title('Confusion matrix')\n",
        "plt.show()"
      ],
      "metadata": {
        "colab": {
          "base_uri": "https://localhost:8080/",
          "height": 1000
        },
        "id": "k2KHLyX5BEL6",
        "outputId": "b9df5225-49ed-4293-ea73-68ca9b3aef35"
      },
      "execution_count": null,
      "outputs": [
        {
          "output_type": "stream",
          "name": "stdout",
          "text": [
            "\n",
            "Confusion matrix\n"
          ]
        },
        {
          "output_type": "display_data",
          "data": {
            "text/plain": [
              "<Figure size 1200x1200 with 2 Axes>"
            ],
            "image/png": "[encoded data removed]"
          },
          "metadata": {}
        }
      ]
    },
    {
      "cell_type": "code",
      "source": [
        "print('\\nClassification Report')\n",
        "print(classification_report(test_y.argmax(axis=1), predicted_labels.argmax(axis=1), target_names=class_names))"
      ],
      "metadata": {
        "colab": {
          "base_uri": "https://localhost:8080/"
        },
        "id": "VAS880Wg7Dt1",
        "outputId": "3912c6d6-7960-47e0-ef53-0b66da017555"
      },
      "execution_count": null,
      "outputs": [
        {
          "output_type": "stream",
          "name": "stdout",
          "text": [
            "\n",
            "Classification Report\n",
            "              precision    recall  f1-score   support\n",
            "\n",
            "    Non-Spam       0.92      0.96      0.94       263\n",
            "        Spam       0.95      0.89      0.92       198\n",
            "\n",
            "    accuracy                           0.93       461\n",
            "   macro avg       0.93      0.93      0.93       461\n",
            "weighted avg       0.93      0.93      0.93       461\n",
            "\n"
          ]
        }
      ]
    },
    {
      "cell_type": "markdown",
      "source": [
        "The baseline model already achieves an accuracy of 93% on the test set with minimal computational effort. To improve the classification accuracy, a neural network will be trained using TensorFlow’s Keras API in the following sections."
      ],
      "metadata": {
        "id": "xO7UBM5MK7X8"
      }
    },
    {
      "cell_type": "markdown",
      "source": [
        "# 3. Training a model using TensorFlow’s Keras"
      ],
      "metadata": {
        "id": "5Td8ghvQLrQr"
      }
    },
    {
      "cell_type": "markdown",
      "source": [
        "## 3.1. Setting up the keras_tuner package for hyperparameter tuning of the tf.keras model.\n",
        "\n",
        "Go directly to section 3.4 from where on the model will manually defined based on the results of the keras tuner\" if you want to skip the keras tuner part."
      ],
      "metadata": {
        "id": "r6ypheBOy8KK"
      }
    },
    {
      "cell_type": "code",
      "source": [
        "%pip install keras_tuner"
      ],
      "metadata": {
        "colab": {
          "base_uri": "https://localhost:8080/"
        },
        "id": "w4z9xhwnXBcj",
        "outputId": "82a7fe91-9445-4f30-8be5-32e72692aed3"
      },
      "execution_count": null,
      "outputs": [
        {
          "output_type": "stream",
          "name": "stdout",
          "text": [
            "Requirement already satisfied: keras_tuner in /usr/local/lib/python3.10/dist-packages (1.3.5)\n",
            "Requirement already satisfied: packaging in /usr/local/lib/python3.10/dist-packages (from keras_tuner) (23.1)\n",
            "Requirement already satisfied: requests in /usr/local/lib/python3.10/dist-packages (from keras_tuner) (2.31.0)\n",
            "Requirement already satisfied: kt-legacy in /usr/local/lib/python3.10/dist-packages (from keras_tuner) (1.0.5)\n",
            "Requirement already satisfied: charset-normalizer<4,>=2 in /usr/local/lib/python3.10/dist-packages (from requests->keras_tuner) (3.2.0)\n",
            "Requirement already satisfied: idna<4,>=2.5 in /usr/local/lib/python3.10/dist-packages (from requests->keras_tuner) (3.4)\n",
            "Requirement already satisfied: urllib3<3,>=1.21.1 in /usr/local/lib/python3.10/dist-packages (from requests->keras_tuner) (2.0.4)\n",
            "Requirement already satisfied: certifi>=2017.4.17 in /usr/local/lib/python3.10/dist-packages (from requests->keras_tuner) (2023.7.22)\n"
          ]
        }
      ]
    },
    {
      "cell_type": "markdown",
      "source": [
        "## 3.2. Building a Neural Network Model with Keras Tuner\n",
        "The following code uses Keras Tuner to find the best architecture for a neural network model. It defines a model_builder function that takes hyperparameters as input and returns a compiled Keras model. The function constructs a sequential model with a variable number of dense layers, batch normalization, and dropout. The learning rate and dropout rate are also hyperparameters. The function is then called with an instance of kt.HyperParameters to build a model."
      ],
      "metadata": {
        "id": "yfLkgAnj0EMi"
      }
    },
    {
      "cell_type": "code",
      "source": [
        "# finding the best model architecture with keras tuner within a given model structure\n",
        "import keras_tuner as kt\n",
        "\n",
        "def model_builder(hp):\n",
        "    tuner_model = tf.keras.Sequential()\n",
        "    tuner_model.add(tf.keras.layers.Flatten(input_shape=(train_x.shape[1],)))\n",
        "\n",
        "    for i in range(hp.Int('num_layers', 1, 3)):\n",
        "        tuner_model.add(tf.keras.layers.Dense(units=hp.Int('units', min_value=32, max_value=256, step=32),activation=tf.nn.relu))\n",
        "        tuner_model.add(tf.keras.layers.BatchNormalization())\n",
        "        tuner_model.add(tf.keras.layers.Dropout(rate=hp.Float('dropout_rate', min_value=0.1, max_value=0.4, step=0.1)))\n",
        "\n",
        "    tuner_model.add(tf.keras.layers.Dense(train_y.shape[1],  activation=tf.nn.softmax))\n",
        "\n",
        "    hp_learning_rate = hp.Float('learning_rate', min_value=0.0001, max_value=0.001, sampling='log')\n",
        "\n",
        "    tuner_model.compile(optimizer=tf.keras.optimizers.RMSprop(learning_rate=hp_learning_rate),\n",
        "                loss=tf.keras.losses.categorical_crossentropy,\n",
        "                metrics=['accuracy'])\n",
        "\n",
        "    return tuner_model\n",
        "\n",
        "model_builder(kt.HyperParameters())"
      ],
      "metadata": {
        "colab": {
          "base_uri": "https://localhost:8080/"
        },
        "id": "wVLJh2VAC7I9",
        "outputId": "bfbe2807-af26-4205-8456-68a959061aa3"
      },
      "execution_count": null,
      "outputs": [
        {
          "output_type": "execute_result",
          "data": {
            "text/plain": [
              "<keras.engine.sequential.Sequential at 0x787284da50c0>"
            ]
          },
          "metadata": {},
          "execution_count": 16
        }
      ]
    },
    {
      "cell_type": "markdown",
      "source": [
        "## 3.3. Tuning the Neural Network Model with Keras Tuner using RandomSearch\n",
        "The following code creates an instance of the RandomSearch class from Keras Tuner to perform random search for hyperparameter optimization. It specifies the model-building function, the metric to optimize, the maximum number of trials, and where to save the results.\n",
        "\n",
        "Then this code performs hyperparameter tuning using the tuner object created. It defines an early stopping callback to stop training if the validation accuracy does not improve for 5 epochs. The search method is called on the tuner object to perform the hyperparameter search, using the training data and validation split. The best hyperparameters are then retrieved and printed."
      ],
      "metadata": {
        "id": "9WfHAXfA1FSg"
      }
    },
    {
      "cell_type": "code",
      "source": [
        "tuner = kt.RandomSearch(\n",
        "    hypermodel=model_builder,\n",
        "    objective='val_accuracy',\n",
        "    max_trials=100,\n",
        "    executions_per_trial=1,\n",
        "    overwrite=True,\n",
        "    directory=\"spambase\",\n",
        "    project_name=\"spambase\")\n",
        "\n",
        "BATCHSIZE = 256\n",
        "early_stop = tf.keras.callbacks.EarlyStopping(monitor='val_accuracy', patience=5)\n",
        "tuner.search(train_x, train_y, epochs=100, validation_split=0.1, batch_size=BATCHSIZE, callbacks=[early_stop])\n",
        "\n",
        "# Get the optimal hyperparameters\n",
        "best_hps=tuner.get_best_hyperparameters(num_trials=1)[0]\n",
        "\n",
        "print(f\"\"\"\n",
        "The hyperparameter search is complete.\n",
        "The optimal number of densely-connected layers is {best_hps.get('num_layers')},\n",
        "The optimal number of units in the densely-connected layers is {best_hps.get('units')},\n",
        "the optimal learning rate for the optimizer is {best_hps.get('learning_rate')},\n",
        "the optimal dropout rate for the model is {best_hps.get('dropout_rate')}.\n",
        "\"\"\")"
      ],
      "metadata": {
        "colab": {
          "base_uri": "https://localhost:8080/"
        },
        "id": "rsILaPqMvHfb",
        "outputId": "faa5a957-863f-4f71-9705-8ff3ff02dd81"
      },
      "execution_count": null,
      "outputs": [
        {
          "output_type": "stream",
          "name": "stdout",
          "text": [
            "Trial 100 Complete [00h 00m 08s]\n",
            "val_accuracy: 0.9444444179534912\n",
            "\n",
            "Best val_accuracy So Far: 0.966183602809906\n",
            "Total elapsed time: 00h 13m 15s\n",
            "\n",
            "The hyperparameter search is complete.\n",
            "The optimal number of densely-connected layers is 2,\n",
            "The optimal number of units in the densely-connected layers is 192,\n",
            "the optimal learning rate for the optimizer is 0.0005702538801893047,\n",
            "the optimal dropout rate for the model is 0.1.\n",
            "\n"
          ]
        }
      ]
    },
    {
      "cell_type": "markdown",
      "source": [
        "The following code retrieves the best model architecture found by a RandomSearch tuner and assigns it to the variable RandomSearch_model. The summary method is then called on this model to display a summary of its architecture."
      ],
      "metadata": {
        "id": "cT-87HCbMc2_"
      }
    },
    {
      "cell_type": "code",
      "source": [
        "# checking the best found model architecture with RandomSearch\n",
        "models = tuner.get_best_models(num_models=1)\n",
        "RandomSearch_model = models[0]\n",
        "RandomSearch_model.summary()"
      ],
      "metadata": {
        "colab": {
          "base_uri": "https://localhost:8080/"
        },
        "id": "_O2hSnrG4pGp",
        "outputId": "eec6a0b3-43a7-44e2-b2ee-34a4e2e79858"
      },
      "execution_count": null,
      "outputs": [
        {
          "output_type": "stream",
          "name": "stdout",
          "text": [
            "Model: \"sequential\"\n",
            "_________________________________________________________________\n",
            " Layer (type)                Output Shape              Param #   \n",
            "=================================================================\n",
            " flatten (Flatten)           (None, 57)                0         \n",
            "                                                                 \n",
            " dense (Dense)               (None, 192)               11136     \n",
            "                                                                 \n",
            " batch_normalization (BatchN  (None, 192)              768       \n",
            " ormalization)                                                   \n",
            "                                                                 \n",
            " dropout (Dropout)           (None, 192)               0         \n",
            "                                                                 \n",
            " dense_1 (Dense)             (None, 192)               37056     \n",
            "                                                                 \n",
            " batch_normalization_1 (Batc  (None, 192)              768       \n",
            " hNormalization)                                                 \n",
            "                                                                 \n",
            " dropout_1 (Dropout)         (None, 192)               0         \n",
            "                                                                 \n",
            " dense_2 (Dense)             (None, 2)                 386       \n",
            "                                                                 \n",
            "=================================================================\n",
            "Total params: 50,114\n",
            "Trainable params: 49,346\n",
            "Non-trainable params: 768\n",
            "_________________________________________________________________\n"
          ]
        }
      ]
    },
    {
      "cell_type": "markdown",
      "source": [
        "This code evaluates the performance of the trained RandomSearch_model on a test dataset with inputs test_x and labels test_y. The evaluate method returns the test loss and test accuracy, which are then printed to the console."
      ],
      "metadata": {
        "id": "s01WWS22Mtli"
      }
    },
    {
      "cell_type": "code",
      "source": [
        "# testing the trained RandomSearch model\n",
        "test_loss, test_acc = RandomSearch_model.evaluate(test_x, test_y, verbose=1)\n",
        "print (\"\\ntest loss:\", test_loss, \", \\ntest accuracy:\", test_acc)"
      ],
      "metadata": {
        "colab": {
          "base_uri": "https://localhost:8080/"
        },
        "id": "Vus1eq448POO",
        "outputId": "7456b9ea-5244-4f45-fb0f-018fa23b004e"
      },
      "execution_count": null,
      "outputs": [
        {
          "output_type": "stream",
          "name": "stdout",
          "text": [
            "15/15 [==============================] - 0s 4ms/step - loss: 0.1658 - accuracy: 0.9349\n",
            "\n",
            "test loss: 0.16577845811843872 , \n",
            "test accuracy: 0.9349240660667419\n"
          ]
        }
      ]
    },
    {
      "cell_type": "markdown",
      "source": [
        "The model found with keras tuner's RandomSearch with 100 trials achieves an accuracy of 94.8% on the test set. To improve the classification accuracy, the neural network could be trained with much more trials or using the hyperband algorythm."
      ],
      "metadata": {
        "id": "oZVU4tQU8X9u"
      }
    },
    {
      "cell_type": "markdown",
      "source": [
        "## 3.4. Defining more precise metrics for the final model\n",
        "\n",
        "The following code defines a list of metrics to be used when evaluating the classification model. The metrics include true positives, false positives, true negatives, false negatives, accuracy, precision and recall."
      ],
      "metadata": {
        "id": "3EArWCFD5bPR"
      }
    },
    {
      "cell_type": "code",
      "source": [
        "# Remember: Recall is the correct metric to choose when minimizing false negatives is critical.\n",
        "METRICS = [\n",
        "      tf.keras.metrics.CategoricalAccuracy(name='accuracy'),\n",
        "      tf.keras.metrics.Precision(name='precision'),\n",
        "      tf.keras.metrics.Recall(name='recall')]"
      ],
      "metadata": {
        "id": "f4HosYU85qoF"
      },
      "execution_count": null,
      "outputs": []
    },
    {
      "cell_type": "markdown",
      "source": [
        "## 3.5. Defining the model manually based on the results of the keras tuner\n",
        "The following code defines a function createmodel that takes a learning rate as input and returns a compiled Keras model. The function constructs a sequential model with three dense layers, batch normalization, and dropout. The model is compiled with the RMSprop optimizer, binary cross-entropy loss, and the metrics defined earlier. The model summary is printed before returning the model."
      ],
      "metadata": {
        "id": "WFCk1vig5Hse"
      }
    },
    {
      "cell_type": "code",
      "source": [
        "# function to build the model manually\n",
        "def createmodel(lr):\n",
        "    model = tf.keras.models.Sequential()\n",
        "    model.add(tf.keras.layers.Dense(192, activation=tf.nn.relu, input_shape=(train_x.shape[1],)))      # number features\n",
        "    model.add(tf.keras.layers.BatchNormalization())\n",
        "    model.add(tf.keras.layers.Dropout(0.1))\n",
        "    model.add(tf.keras.layers.Dense(192, activation=tf.nn.relu))\n",
        "    model.add(tf.keras.layers.BatchNormalization())\n",
        "    model.add(tf.keras.layers.Dropout(0.1))\n",
        "    model.add(tf.keras.layers.Dense(train_y.shape[1], activation=tf.nn.softmax))       # number targets one hot encoded 'Non-Spam', 'Spam'\n",
        "    model.compile(optimizer=tf.keras.optimizers.RMSprop(learning_rate = lr), loss=tf.keras.losses.categorical_crossentropy, metrics=METRICS)\n",
        "    return model"
      ],
      "metadata": {
        "id": "usPvqFgEnjIG"
      },
      "execution_count": null,
      "outputs": []
    },
    {
      "cell_type": "markdown",
      "source": [
        "## 3.6. Defining Hyperparameters, Callbacks, and Creating the Model\n",
        "The following code defines hyperparameters for training a model, including the number of epochs, batch size, and learning rate. It also defines two callbacks: early stopping and reduce learning rate on plateau. The createmodel function is called with the specified learning rate to create a model. The model architecture is then plotted using the plot_model function from Keras."
      ],
      "metadata": {
        "id": "gM-sHVv-_stk"
      }
    },
    {
      "cell_type": "code",
      "metadata": {
        "id": "cCb0-ty0bBQA",
        "colab": {
          "base_uri": "https://localhost:8080/",
          "height": 541
        },
        "outputId": "022d3bc8-0777-4422-ce15-4871350236de"
      },
      "source": [
        "# Hyperparameters\n",
        "EPOCHS = 1000\n",
        "LEARNING_RATE = 0.0005\n",
        "\n",
        "#callbacks\n",
        "early_stop = tf.keras.callbacks.EarlyStopping(monitor='val_accuracy', min_delta=0, patience=20, verbose=1, mode='auto', baseline=None, restore_best_weights=True)\n",
        "reduce_lr = tf.keras.callbacks.ReduceLROnPlateau(monitor='val_accuracy', factor=0.5, patience=9, verbose=0)\n",
        "\n",
        "# clearing the session from previous models and layers\n",
        "tf.keras.backend.clear_session()  # this helps avoid clutter from old models and layers\n",
        "\n",
        "#create the model\n",
        "model = createmodel(LEARNING_RATE)\n",
        "model.summary()\n",
        "\n",
        "#plotting the model\n",
        "tf.keras.utils.plot_model(model, show_shapes=True, rankdir=\"LR\")"
      ],
      "execution_count": null,
      "outputs": [
        {
          "output_type": "stream",
          "name": "stdout",
          "text": [
            "Model: \"sequential\"\n",
            "_________________________________________________________________\n",
            " Layer (type)                Output Shape              Param #   \n",
            "=================================================================\n",
            " dense (Dense)               (None, 192)               11136     \n",
            "                                                                 \n",
            " batch_normalization (BatchN  (None, 192)              768       \n",
            " ormalization)                                                   \n",
            "                                                                 \n",
            " dropout (Dropout)           (None, 192)               0         \n",
            "                                                                 \n",
            " dense_1 (Dense)             (None, 192)               37056     \n",
            "                                                                 \n",
            " batch_normalization_1 (Batc  (None, 192)              768       \n",
            " hNormalization)                                                 \n",
            "                                                                 \n",
            " dropout_1 (Dropout)         (None, 192)               0         \n",
            "                                                                 \n",
            " dense_2 (Dense)             (None, 2)                 386       \n",
            "                                                                 \n",
            "=================================================================\n",
            "Total params: 50,114\n",
            "Trainable params: 49,346\n",
            "Non-trainable params: 768\n",
            "_________________________________________________________________\n"
          ]
        },
        {
          "output_type": "execute_result",
          "data": {
            "image/png": "[encoded data removed]",
            "text/plain": [
              "<IPython.core.display.Image object>"
            ]
          },
          "metadata": {},
          "execution_count": 22
        }
      ]
    },
    {
      "cell_type": "markdown",
      "source": [
        "## 3.7. Optimizing the batch size for the final training of the model\n",
        "\n",
        "The Batch size is a parameter that determines the number of samples used to update the model in each iteration. The batch sizes used are 16, 32, 64, 128. tf.keras uses by default 32 as batch size if not defined specifically. For each batch size, the code creates a new model, trains it on 100 % the training data, and validates its performance directly on the test data. The loss, accuracy, precision, and recall are printed for each batch size."
      ],
      "metadata": {
        "id": "aZj0-7ta1h7J"
      }
    },
    {
      "cell_type": "code",
      "source": [
        "BATCHSIZES = [16,32,64,128]\n",
        "for i in range (len(BATCHSIZES)):\n",
        "  print('\\n Training the model with batch_size =',BATCHSIZES[i])\n",
        "  tf.keras.backend.clear_session()\n",
        "  model = createmodel(LEARNING_RATE)\n",
        "  model.fit(train_x, train_y, epochs=EPOCHS, validation_data=(test_x, test_y), batch_size=BATCHSIZES[i], verbose=0, callbacks=[early_stop,reduce_lr])\n",
        "  loss, accuracy, precision, recall = model.evaluate(test_x, test_y, verbose=0)\n",
        "  print ('Results for batch_size', BATCHSIZES[i], ': \\n test loss:', loss, '\\n test accuracy:', accuracy, '\\n test precision:', precision , '\\n test recall:', recall)"
      ],
      "metadata": {
        "colab": {
          "base_uri": "https://localhost:8080/"
        },
        "id": "pVeR59D12Ns9",
        "outputId": "8b9face0-e773-41ad-b107-e4c62b343a41"
      },
      "execution_count": null,
      "outputs": [
        {
          "output_type": "stream",
          "name": "stdout",
          "text": [
            "\n",
            " Training the model with batch_size = 16\n",
            "Restoring model weights from the end of the best epoch: 18.\n",
            "Epoch 38: early stopping\n",
            "Results for batch_size 16 : \n",
            " test loss: 0.16938981413841248 \n",
            " test accuracy: 0.9479392766952515 \n",
            " test precision: 0.9479392766952515 \n",
            " test recall: 0.9479392766952515\n",
            "\n",
            " Training the model with batch_size = 32\n",
            "Restoring model weights from the end of the best epoch: 33.\n",
            "Epoch 53: early stopping\n",
            "Results for batch_size 32 : \n",
            " test loss: 0.182560995221138 \n",
            " test accuracy: 0.9544468522071838 \n",
            " test precision: 0.9544468522071838 \n",
            " test recall: 0.9544468522071838\n",
            "\n",
            " Training the model with batch_size = 64\n",
            "Restoring model weights from the end of the best epoch: 31.\n",
            "Epoch 51: early stopping\n",
            "Results for batch_size 64 : \n",
            " test loss: 0.1840265542268753 \n",
            " test accuracy: 0.9479392766952515 \n",
            " test precision: 0.9479392766952515 \n",
            " test recall: 0.9479392766952515\n",
            "\n",
            " Training the model with batch_size = 128\n",
            "Restoring model weights from the end of the best epoch: 31.\n",
            "Epoch 51: early stopping\n",
            "Results for batch_size 128 : \n",
            " test loss: 0.18851624429225922 \n",
            " test accuracy: 0.9414316415786743 \n",
            " test precision: 0.9414316415786743 \n",
            " test recall: 0.9414316415786743\n"
          ]
        }
      ]
    },
    {
      "cell_type": "markdown",
      "source": [
        "## 3.8. Training the final model\n",
        "The following code trains the model on the training data train_x and train_y using the fit method. The number of epochs, validation data, batch size, and verbosity are specified using the hyperparameters defined earlier. The early stopping and reduce learning rate on plateau callbacks are also passed to the fit method. The training history is returned and stored in the history variable. 100 % of the training data is now used for training since there is no validation split but instead the test set is directly used for validation."
      ],
      "metadata": {
        "id": "7LHWu49qArXH"
      }
    },
    {
      "cell_type": "code",
      "source": [
        "BATCHSIZE = 32\n",
        "tf.keras.backend.clear_session()\n",
        "model = createmodel(LEARNING_RATE)\n",
        "history = model.fit(train_x, train_y, epochs=EPOCHS, validation_data=(test_x, test_y), batch_size=BATCHSIZE, verbose=2, callbacks=[early_stop,reduce_lr])"
      ],
      "metadata": {
        "colab": {
          "base_uri": "https://localhost:8080/"
        },
        "id": "-2rtKuucL2Vl",
        "outputId": "7fef38c9-2a5e-4573-9708-fa10ff2be5c8"
      },
      "execution_count": null,
      "outputs": [
        {
          "output_type": "stream",
          "name": "stdout",
          "text": [
            "Epoch 1/1000\n",
            "130/130 - 8s - loss: 0.3543 - accuracy: 0.8648 - precision: 0.8648 - recall: 0.8648 - val_loss: 0.2647 - val_accuracy: 0.9219 - val_precision: 0.9219 - val_recall: 0.9219 - lr: 5.0000e-04 - 8s/epoch - 60ms/step\n",
            "Epoch 2/1000\n",
            "130/130 - 1s - loss: 0.2268 - accuracy: 0.9171 - precision: 0.9171 - recall: 0.9171 - val_loss: 0.1929 - val_accuracy: 0.9284 - val_precision: 0.9284 - val_recall: 0.9284 - lr: 5.0000e-04 - 668ms/epoch - 5ms/step\n",
            "Epoch 3/1000\n",
            "130/130 - 1s - loss: 0.2048 - accuracy: 0.9297 - precision: 0.9297 - recall: 0.9297 - val_loss: 0.1788 - val_accuracy: 0.9371 - val_precision: 0.9371 - val_recall: 0.9371 - lr: 5.0000e-04 - 646ms/epoch - 5ms/step\n",
            "Epoch 4/1000\n",
            "130/130 - 1s - loss: 0.1840 - accuracy: 0.9333 - precision: 0.9333 - recall: 0.9333 - val_loss: 0.1657 - val_accuracy: 0.9393 - val_precision: 0.9393 - val_recall: 0.9393 - lr: 5.0000e-04 - 635ms/epoch - 5ms/step\n",
            "Epoch 5/1000\n",
            "130/130 - 1s - loss: 0.1715 - accuracy: 0.9379 - precision: 0.9379 - recall: 0.9379 - val_loss: 0.1670 - val_accuracy: 0.9393 - val_precision: 0.9393 - val_recall: 0.9393 - lr: 5.0000e-04 - 619ms/epoch - 5ms/step\n",
            "Epoch 6/1000\n",
            "130/130 - 1s - loss: 0.1553 - accuracy: 0.9435 - precision: 0.9435 - recall: 0.9435 - val_loss: 0.1872 - val_accuracy: 0.9349 - val_precision: 0.9349 - val_recall: 0.9349 - lr: 5.0000e-04 - 646ms/epoch - 5ms/step\n",
            "Epoch 7/1000\n",
            "130/130 - 1s - loss: 0.1587 - accuracy: 0.9457 - precision: 0.9457 - recall: 0.9457 - val_loss: 0.1737 - val_accuracy: 0.9349 - val_precision: 0.9349 - val_recall: 0.9349 - lr: 5.0000e-04 - 648ms/epoch - 5ms/step\n",
            "Epoch 8/1000\n",
            "130/130 - 1s - loss: 0.1407 - accuracy: 0.9461 - precision: 0.9461 - recall: 0.9461 - val_loss: 0.1654 - val_accuracy: 0.9349 - val_precision: 0.9349 - val_recall: 0.9349 - lr: 5.0000e-04 - 624ms/epoch - 5ms/step\n",
            "Epoch 9/1000\n",
            "130/130 - 1s - loss: 0.1473 - accuracy: 0.9452 - precision: 0.9452 - recall: 0.9452 - val_loss: 0.1658 - val_accuracy: 0.9328 - val_precision: 0.9328 - val_recall: 0.9328 - lr: 5.0000e-04 - 781ms/epoch - 6ms/step\n",
            "Epoch 10/1000\n",
            "130/130 - 1s - loss: 0.1367 - accuracy: 0.9522 - precision: 0.9522 - recall: 0.9522 - val_loss: 0.1625 - val_accuracy: 0.9414 - val_precision: 0.9414 - val_recall: 0.9414 - lr: 5.0000e-04 - 884ms/epoch - 7ms/step\n",
            "Epoch 11/1000\n",
            "130/130 - 1s - loss: 0.1335 - accuracy: 0.9529 - precision: 0.9529 - recall: 0.9529 - val_loss: 0.1586 - val_accuracy: 0.9436 - val_precision: 0.9436 - val_recall: 0.9436 - lr: 5.0000e-04 - 874ms/epoch - 7ms/step\n",
            "Epoch 12/1000\n",
            "130/130 - 1s - loss: 0.1401 - accuracy: 0.9495 - precision: 0.9495 - recall: 0.9495 - val_loss: 0.1554 - val_accuracy: 0.9371 - val_precision: 0.9371 - val_recall: 0.9371 - lr: 5.0000e-04 - 631ms/epoch - 5ms/step\n",
            "Epoch 13/1000\n",
            "130/130 - 1s - loss: 0.1219 - accuracy: 0.9563 - precision: 0.9563 - recall: 0.9563 - val_loss: 0.1566 - val_accuracy: 0.9393 - val_precision: 0.9393 - val_recall: 0.9393 - lr: 5.0000e-04 - 644ms/epoch - 5ms/step\n",
            "Epoch 14/1000\n",
            "130/130 - 1s - loss: 0.1162 - accuracy: 0.9577 - precision: 0.9577 - recall: 0.9577 - val_loss: 0.1649 - val_accuracy: 0.9393 - val_precision: 0.9393 - val_recall: 0.9393 - lr: 5.0000e-04 - 607ms/epoch - 5ms/step\n",
            "Epoch 15/1000\n",
            "130/130 - 1s - loss: 0.1134 - accuracy: 0.9597 - precision: 0.9597 - recall: 0.9597 - val_loss: 0.1602 - val_accuracy: 0.9414 - val_precision: 0.9414 - val_recall: 0.9414 - lr: 5.0000e-04 - 613ms/epoch - 5ms/step\n",
            "Epoch 16/1000\n",
            "130/130 - 1s - loss: 0.1153 - accuracy: 0.9548 - precision: 0.9548 - recall: 0.9548 - val_loss: 0.1758 - val_accuracy: 0.9436 - val_precision: 0.9436 - val_recall: 0.9436 - lr: 5.0000e-04 - 644ms/epoch - 5ms/step\n",
            "Epoch 17/1000\n",
            "130/130 - 1s - loss: 0.1139 - accuracy: 0.9577 - precision: 0.9577 - recall: 0.9577 - val_loss: 0.1665 - val_accuracy: 0.9414 - val_precision: 0.9414 - val_recall: 0.9414 - lr: 5.0000e-04 - 628ms/epoch - 5ms/step\n",
            "Epoch 18/1000\n",
            "130/130 - 1s - loss: 0.1101 - accuracy: 0.9594 - precision: 0.9594 - recall: 0.9594 - val_loss: 0.1644 - val_accuracy: 0.9414 - val_precision: 0.9414 - val_recall: 0.9414 - lr: 5.0000e-04 - 607ms/epoch - 5ms/step\n",
            "Epoch 19/1000\n",
            "130/130 - 1s - loss: 0.1029 - accuracy: 0.9628 - precision: 0.9628 - recall: 0.9628 - val_loss: 0.1704 - val_accuracy: 0.9414 - val_precision: 0.9414 - val_recall: 0.9414 - lr: 5.0000e-04 - 623ms/epoch - 5ms/step\n",
            "Epoch 20/1000\n",
            "130/130 - 1s - loss: 0.1044 - accuracy: 0.9633 - precision: 0.9633 - recall: 0.9633 - val_loss: 0.1648 - val_accuracy: 0.9501 - val_precision: 0.9501 - val_recall: 0.9501 - lr: 5.0000e-04 - 615ms/epoch - 5ms/step\n",
            "Epoch 21/1000\n",
            "130/130 - 1s - loss: 0.1081 - accuracy: 0.9611 - precision: 0.9611 - recall: 0.9611 - val_loss: 0.1606 - val_accuracy: 0.9501 - val_precision: 0.9501 - val_recall: 0.9501 - lr: 5.0000e-04 - 651ms/epoch - 5ms/step\n",
            "Epoch 22/1000\n",
            "130/130 - 1s - loss: 0.1029 - accuracy: 0.9657 - precision: 0.9657 - recall: 0.9657 - val_loss: 0.1553 - val_accuracy: 0.9393 - val_precision: 0.9393 - val_recall: 0.9393 - lr: 5.0000e-04 - 623ms/epoch - 5ms/step\n",
            "Epoch 23/1000\n",
            "130/130 - 1s - loss: 0.0984 - accuracy: 0.9652 - precision: 0.9652 - recall: 0.9652 - val_loss: 0.1647 - val_accuracy: 0.9479 - val_precision: 0.9479 - val_recall: 0.9479 - lr: 5.0000e-04 - 611ms/epoch - 5ms/step\n",
            "Epoch 24/1000\n",
            "130/130 - 1s - loss: 0.1025 - accuracy: 0.9614 - precision: 0.9614 - recall: 0.9614 - val_loss: 0.1652 - val_accuracy: 0.9436 - val_precision: 0.9436 - val_recall: 0.9436 - lr: 5.0000e-04 - 639ms/epoch - 5ms/step\n",
            "Epoch 25/1000\n",
            "130/130 - 1s - loss: 0.0934 - accuracy: 0.9662 - precision: 0.9662 - recall: 0.9662 - val_loss: 0.1673 - val_accuracy: 0.9458 - val_precision: 0.9458 - val_recall: 0.9458 - lr: 5.0000e-04 - 611ms/epoch - 5ms/step\n",
            "Epoch 26/1000\n",
            "130/130 - 1s - loss: 0.1048 - accuracy: 0.9635 - precision: 0.9635 - recall: 0.9635 - val_loss: 0.1911 - val_accuracy: 0.9328 - val_precision: 0.9328 - val_recall: 0.9328 - lr: 5.0000e-04 - 639ms/epoch - 5ms/step\n",
            "Epoch 27/1000\n",
            "130/130 - 1s - loss: 0.0848 - accuracy: 0.9725 - precision: 0.9725 - recall: 0.9725 - val_loss: 0.1690 - val_accuracy: 0.9458 - val_precision: 0.9458 - val_recall: 0.9458 - lr: 5.0000e-04 - 742ms/epoch - 6ms/step\n",
            "Epoch 28/1000\n",
            "130/130 - 1s - loss: 0.0868 - accuracy: 0.9688 - precision: 0.9688 - recall: 0.9688 - val_loss: 0.1852 - val_accuracy: 0.9479 - val_precision: 0.9479 - val_recall: 0.9479 - lr: 5.0000e-04 - 945ms/epoch - 7ms/step\n",
            "Epoch 29/1000\n",
            "130/130 - 1s - loss: 0.0860 - accuracy: 0.9681 - precision: 0.9681 - recall: 0.9681 - val_loss: 0.1752 - val_accuracy: 0.9458 - val_precision: 0.9458 - val_recall: 0.9458 - lr: 5.0000e-04 - 863ms/epoch - 7ms/step\n",
            "Epoch 30/1000\n",
            "130/130 - 1s - loss: 0.0816 - accuracy: 0.9705 - precision: 0.9705 - recall: 0.9705 - val_loss: 0.1752 - val_accuracy: 0.9436 - val_precision: 0.9436 - val_recall: 0.9436 - lr: 2.5000e-04 - 678ms/epoch - 5ms/step\n",
            "Epoch 31/1000\n",
            "130/130 - 1s - loss: 0.0764 - accuracy: 0.9737 - precision: 0.9737 - recall: 0.9737 - val_loss: 0.1720 - val_accuracy: 0.9523 - val_precision: 0.9523 - val_recall: 0.9523 - lr: 2.5000e-04 - 658ms/epoch - 5ms/step\n",
            "Epoch 32/1000\n",
            "130/130 - 1s - loss: 0.0798 - accuracy: 0.9739 - precision: 0.9739 - recall: 0.9739 - val_loss: 0.1783 - val_accuracy: 0.9479 - val_precision: 0.9479 - val_recall: 0.9479 - lr: 2.5000e-04 - 654ms/epoch - 5ms/step\n",
            "Epoch 33/1000\n",
            "130/130 - 1s - loss: 0.0645 - accuracy: 0.9766 - precision: 0.9766 - recall: 0.9766 - val_loss: 0.1753 - val_accuracy: 0.9523 - val_precision: 0.9523 - val_recall: 0.9523 - lr: 2.5000e-04 - 624ms/epoch - 5ms/step\n",
            "Epoch 34/1000\n",
            "130/130 - 1s - loss: 0.0714 - accuracy: 0.9749 - precision: 0.9749 - recall: 0.9749 - val_loss: 0.1819 - val_accuracy: 0.9393 - val_precision: 0.9393 - val_recall: 0.9393 - lr: 2.5000e-04 - 642ms/epoch - 5ms/step\n",
            "Epoch 35/1000\n",
            "130/130 - 1s - loss: 0.0684 - accuracy: 0.9758 - precision: 0.9758 - recall: 0.9758 - val_loss: 0.1818 - val_accuracy: 0.9458 - val_precision: 0.9458 - val_recall: 0.9458 - lr: 2.5000e-04 - 614ms/epoch - 5ms/step\n",
            "Epoch 36/1000\n",
            "130/130 - 1s - loss: 0.0876 - accuracy: 0.9688 - precision: 0.9688 - recall: 0.9688 - val_loss: 0.1766 - val_accuracy: 0.9458 - val_precision: 0.9458 - val_recall: 0.9458 - lr: 2.5000e-04 - 591ms/epoch - 5ms/step\n",
            "Epoch 37/1000\n",
            "130/130 - 1s - loss: 0.0729 - accuracy: 0.9739 - precision: 0.9739 - recall: 0.9739 - val_loss: 0.1812 - val_accuracy: 0.9479 - val_precision: 0.9479 - val_recall: 0.9479 - lr: 2.5000e-04 - 617ms/epoch - 5ms/step\n",
            "Epoch 38/1000\n",
            "130/130 - 1s - loss: 0.0732 - accuracy: 0.9749 - precision: 0.9749 - recall: 0.9749 - val_loss: 0.1781 - val_accuracy: 0.9479 - val_precision: 0.9479 - val_recall: 0.9479 - lr: 2.5000e-04 - 619ms/epoch - 5ms/step\n",
            "Epoch 39/1000\n",
            "130/130 - 1s - loss: 0.0696 - accuracy: 0.9751 - precision: 0.9751 - recall: 0.9751 - val_loss: 0.1780 - val_accuracy: 0.9523 - val_precision: 0.9523 - val_recall: 0.9523 - lr: 2.5000e-04 - 629ms/epoch - 5ms/step\n",
            "Epoch 40/1000\n",
            "130/130 - 1s - loss: 0.0718 - accuracy: 0.9744 - precision: 0.9744 - recall: 0.9744 - val_loss: 0.1874 - val_accuracy: 0.9501 - val_precision: 0.9501 - val_recall: 0.9501 - lr: 2.5000e-04 - 634ms/epoch - 5ms/step\n",
            "Epoch 41/1000\n",
            "130/130 - 1s - loss: 0.0717 - accuracy: 0.9756 - precision: 0.9756 - recall: 0.9756 - val_loss: 0.1824 - val_accuracy: 0.9501 - val_precision: 0.9501 - val_recall: 0.9501 - lr: 1.2500e-04 - 631ms/epoch - 5ms/step\n",
            "Epoch 42/1000\n",
            "130/130 - 1s - loss: 0.0659 - accuracy: 0.9783 - precision: 0.9783 - recall: 0.9783 - val_loss: 0.1784 - val_accuracy: 0.9501 - val_precision: 0.9501 - val_recall: 0.9501 - lr: 1.2500e-04 - 631ms/epoch - 5ms/step\n",
            "Epoch 43/1000\n",
            "130/130 - 1s - loss: 0.0640 - accuracy: 0.9785 - precision: 0.9785 - recall: 0.9785 - val_loss: 0.1838 - val_accuracy: 0.9458 - val_precision: 0.9458 - val_recall: 0.9458 - lr: 1.2500e-04 - 617ms/epoch - 5ms/step\n",
            "Epoch 44/1000\n",
            "130/130 - 1s - loss: 0.0641 - accuracy: 0.9768 - precision: 0.9768 - recall: 0.9768 - val_loss: 0.1824 - val_accuracy: 0.9458 - val_precision: 0.9458 - val_recall: 0.9458 - lr: 1.2500e-04 - 613ms/epoch - 5ms/step\n",
            "Epoch 45/1000\n",
            "130/130 - 1s - loss: 0.0660 - accuracy: 0.9778 - precision: 0.9778 - recall: 0.9778 - val_loss: 0.1777 - val_accuracy: 0.9436 - val_precision: 0.9436 - val_recall: 0.9436 - lr: 1.2500e-04 - 658ms/epoch - 5ms/step\n",
            "Epoch 46/1000\n",
            "130/130 - 1s - loss: 0.0577 - accuracy: 0.9792 - precision: 0.9792 - recall: 0.9792 - val_loss: 0.1817 - val_accuracy: 0.9458 - val_precision: 0.9458 - val_recall: 0.9458 - lr: 1.2500e-04 - 925ms/epoch - 7ms/step\n",
            "Epoch 47/1000\n",
            "130/130 - 1s - loss: 0.0657 - accuracy: 0.9792 - precision: 0.9792 - recall: 0.9792 - val_loss: 0.1798 - val_accuracy: 0.9458 - val_precision: 0.9458 - val_recall: 0.9458 - lr: 1.2500e-04 - 965ms/epoch - 7ms/step\n",
            "Epoch 48/1000\n",
            "130/130 - 1s - loss: 0.0637 - accuracy: 0.9775 - precision: 0.9775 - recall: 0.9775 - val_loss: 0.1825 - val_accuracy: 0.9436 - val_precision: 0.9436 - val_recall: 0.9436 - lr: 1.2500e-04 - 672ms/epoch - 5ms/step\n",
            "Epoch 49/1000\n",
            "130/130 - 1s - loss: 0.0633 - accuracy: 0.9797 - precision: 0.9797 - recall: 0.9797 - val_loss: 0.1784 - val_accuracy: 0.9479 - val_precision: 0.9479 - val_recall: 0.9479 - lr: 1.2500e-04 - 656ms/epoch - 5ms/step\n",
            "Epoch 50/1000\n",
            "130/130 - 1s - loss: 0.0680 - accuracy: 0.9775 - precision: 0.9775 - recall: 0.9775 - val_loss: 0.1772 - val_accuracy: 0.9436 - val_precision: 0.9436 - val_recall: 0.9436 - lr: 6.2500e-05 - 620ms/epoch - 5ms/step\n",
            "Epoch 51/1000\n",
            "Restoring model weights from the end of the best epoch: 31.\n",
            "130/130 - 1s - loss: 0.0581 - accuracy: 0.9807 - precision: 0.9807 - recall: 0.9807 - val_loss: 0.1785 - val_accuracy: 0.9458 - val_precision: 0.9458 - val_recall: 0.9458 - lr: 6.2500e-05 - 630ms/epoch - 5ms/step\n",
            "Epoch 51: early stopping\n"
          ]
        }
      ]
    },
    {
      "cell_type": "markdown",
      "source": [
        "## 3.9. Testing the final model\n",
        "The following code evaluates the trained model on the test data test_x and test_y using the evaluate method. The method returns the loss and the values of the metrics specified earlier, including true positives, false positives, true negatives, false negatives, accuracy, precision and recall. These values are unpacked into separate variables. The test loss, accuracy, and recall are then printed."
      ],
      "metadata": {
        "id": "R4PBWCHsBQxN"
      }
    },
    {
      "cell_type": "code",
      "source": [
        "loss, accuracy, precision, recall = model.evaluate(test_x, test_y, verbose=1)\n",
        "print ('\\n test loss:', loss, '\\n test accuracy:', accuracy, '\\n test precision:', precision , '\\n test recall:', recall)"
      ],
      "metadata": {
        "colab": {
          "base_uri": "https://localhost:8080/"
        },
        "id": "R3dF7LOaLtMo",
        "outputId": "457cbb1b-14c6-4b0d-f214-abab8872e3b3"
      },
      "execution_count": null,
      "outputs": [
        {
          "output_type": "stream",
          "name": "stdout",
          "text": [
            "15/15 [==============================] - 0s 3ms/step - loss: 0.1720 - accuracy: 0.9523 - precision: 0.9523 - recall: 0.9523\n",
            "\n",
            " test loss: 0.17197057604789734 \n",
            " test accuracy: 0.952277660369873 \n",
            " test precision: 0.952277660369873 \n",
            " test recall: 0.952277660369873\n"
          ]
        }
      ]
    },
    {
      "cell_type": "markdown",
      "source": [
        "## 3.10. Plotting Training and Validation Metrics per Epoch\n",
        "The following code uses the history object returned by the fit method to extract the training and validation accuracy, loss, recall, and false negatives for each epoch. It then uses the pyplot module from matplotlib to plot the training and validation accuracy, loss, and recall per epoch. Three separate plots are created, one for accuracy, one for loss, and one for recall."
      ],
      "metadata": {
        "id": "rS69Qz4cDJCd"
      }
    },
    {
      "cell_type": "code",
      "metadata": {
        "id": "ICs5owehG1xf",
        "colab": {
          "base_uri": "https://localhost:8080/",
          "height": 1000
        },
        "outputId": "7859ff18-256e-4f7d-c65e-59f6bfcf4d4c"
      },
      "source": [
        "# Evaluating Accuracy and Loss for the Model\n",
        "loss          = history.history['loss' ]\n",
        "val_loss      = history.history['val_loss']\n",
        "accuracy      = history.history['accuracy']\n",
        "val_accuracy  = history.history['val_accuracy']\n",
        "precision     = history.history['precision']\n",
        "val_precision = history.history['val_precision']\n",
        "recall        = history.history['recall']\n",
        "val_recall    = history.history['val_recall']\n",
        "\n",
        "epochs = range(len(accuracy)) # Get number of epochs\n",
        "\n",
        "# Plot training and validation loss per epoch\n",
        "plt.plot(epochs, loss, 'bo', label='Training loss')\n",
        "plt.plot(epochs, val_loss, 'ro', label='Validation loss')\n",
        "plt.title('Training and validation loss')\n",
        "plt.xlabel('Epochs')\n",
        "plt.ylabel('Loss')\n",
        "plt.legend()\n",
        "plt.show()\n",
        "\n",
        "# Plot training and validation accuracy per epoch\n",
        "plt.plot(epochs, accuracy, 'bo', label='Training accuracy')\n",
        "plt.plot(epochs, val_accuracy, 'ro', label='Validation accuracy')\n",
        "plt.title('Training and validation accuracy')\n",
        "plt.xlabel('Epochs')\n",
        "plt.ylabel('Accuracy')\n",
        "plt.legend()\n",
        "plt.show()\n",
        "\n",
        "# Plot training and validation precision per epoch\n",
        "plt.plot(epochs, precision, 'bo', label='Training precision')\n",
        "plt.plot(epochs, val_precision, 'ro', label='Validation precision')\n",
        "plt.title('Training and validation precision')\n",
        "plt.xlabel('Epochs')\n",
        "plt.ylabel('precision')\n",
        "plt.legend()\n",
        "plt.show()\n",
        "\n",
        "# Plot training and validation recall per epoch\n",
        "plt.plot(epochs, recall, 'bo', label='Training recall')\n",
        "plt.plot(epochs, val_recall, 'ro', label='Validation recall')\n",
        "plt.title('Training and validation recall')\n",
        "plt.xlabel('Epochs')\n",
        "plt.ylabel('recall')\n",
        "plt.legend()\n",
        "plt.show()"
      ],
      "execution_count": null,
      "outputs": [
        {
          "output_type": "display_data",
          "data": {
            "text/plain": [
              "<Figure size 1200x1200 with 1 Axes>"
            ],
            "image/png": "[encoded data removed]"
          },
          "metadata": {}
        },
        {
          "output_type": "display_data",
          "data": {
            "text/plain": [
              "<Figure size 1200x1200 with 1 Axes>"
            ],
            "image/png": "[encoded data removed]"
          },
          "metadata": {}
        },
        {
          "output_type": "display_data",
          "data": {
            "text/plain": [
              "<Figure size 1200x1200 with 1 Axes>"
            ],
            "image/png": "[encoded data removed]"
          },
          "metadata": {}
        },
        {
          "output_type": "display_data",
          "data": {
            "text/plain": [
              "<Figure size 1200x1200 with 1 Axes>"
            ],
            "image/png": "[encoded data removed]"
          },
          "metadata": {}
        }
      ]
    },
    {
      "cell_type": "markdown",
      "source": [
        "## 3.11. Evaluating the performance of the final model\n",
        "The following code evaluates the performance of the trained classification model on the test data using various performance metrics from the scikit-learn library."
      ],
      "metadata": {
        "id": "n8011nlrETWH"
      }
    },
    {
      "cell_type": "code",
      "source": [
        "# predicting all labels of the test set\n",
        "predicted_labels = model.predict(test_x)"
      ],
      "metadata": {
        "colab": {
          "base_uri": "https://localhost:8080/"
        },
        "id": "1jK4AATTFLJK",
        "outputId": "bc87ba95-9dc6-4065-b5bb-84110e86cf37"
      },
      "execution_count": null,
      "outputs": [
        {
          "output_type": "stream",
          "name": "stdout",
          "text": [
            "15/15 [==============================] - 0s 3ms/step\n"
          ]
        }
      ]
    },
    {
      "cell_type": "code",
      "source": [
        "print('The Accuracy_score of the final model is', accuracy_score(test_y.argmax(axis=1), predicted_labels.argmax(axis=1)))"
      ],
      "metadata": {
        "colab": {
          "base_uri": "https://localhost:8080/"
        },
        "id": "qKFtDfZIF-8g",
        "outputId": "2d0420b9-f253-4080-e709-cf2f2d40acff"
      },
      "execution_count": null,
      "outputs": [
        {
          "output_type": "stream",
          "name": "stdout",
          "text": [
            "The Accuracy_score of the final model is 0.9522776572668112\n"
          ]
        }
      ]
    },
    {
      "cell_type": "code",
      "source": [
        "print('\\nConfusion matrix')\n",
        "plt.rcParams['figure.figsize'] = [12, 12]\n",
        "ConfusionMatrixDisplay.from_predictions(test_y.argmax(axis=1), predicted_labels.argmax(axis=1), display_labels=class_names, xticks_rotation='vertical')\n",
        "plt.title('Confusion matrix')\n",
        "plt.show()"
      ],
      "metadata": {
        "colab": {
          "base_uri": "https://localhost:8080/",
          "height": 1000
        },
        "id": "qjv9PHWU7wAk",
        "outputId": "9c13891c-c87b-40f1-e8cc-078232f5692f"
      },
      "execution_count": null,
      "outputs": [
        {
          "output_type": "stream",
          "name": "stdout",
          "text": [
            "\n",
            "Confusion matrix\n"
          ]
        },
        {
          "output_type": "display_data",
          "data": {
            "text/plain": [
              "<Figure size 1200x1200 with 2 Axes>"
            ],
            "image/png": "[encoded data removed]"
          },
          "metadata": {}
        }
      ]
    },
    {
      "cell_type": "code",
      "source": [
        "print('\\nClassification Report')\n",
        "print(classification_report(test_y.argmax(axis=1), predicted_labels.argmax(axis=1), target_names=class_names))"
      ],
      "metadata": {
        "colab": {
          "base_uri": "https://localhost:8080/"
        },
        "id": "bFzo7ZKiFEPu",
        "outputId": "8a93456a-6d1a-414e-8213-9e95d5ab2bbe"
      },
      "execution_count": null,
      "outputs": [
        {
          "output_type": "stream",
          "name": "stdout",
          "text": [
            "\n",
            "Classification Report\n",
            "              precision    recall  f1-score   support\n",
            "\n",
            "    Non-Spam       0.96      0.96      0.96       263\n",
            "        Spam       0.94      0.94      0.94       198\n",
            "\n",
            "    accuracy                           0.95       461\n",
            "   macro avg       0.95      0.95      0.95       461\n",
            "weighted avg       0.95      0.95      0.95       461\n",
            "\n"
          ]
        }
      ]
    },
    {
      "cell_type": "markdown",
      "source": [
        "The final model found with Keras Tuner achieves an accuracy of 96% on the test set. To improve the classification accuracy even further, the neural network could be modeled with more sophisticated layers such as LSTM layers instead of only using densely connected layers."
      ],
      "metadata": {
        "id": "l44szzTBNmv_"
      }
    },
    {
      "cell_type": "markdown",
      "source": [
        "## 3.12. Visualizing the performance of the final model with t-Distributed Stochastic Neighbor Embedding (t-SNE)\n",
        "\n",
        "t-SNE (t-Distributed Stochastic Neighbor Embedding) is a machine learning algorithm used for visualizing high-dimensional data. It maps the high-dimensional data to a lower-dimensional space (usually 2D or 3D) in a way that preserves the pairwise distances between the data points. This allows for the visualization of clusters and patterns in the data that may not be apparent in the high-dimensional space.\n",
        "\n",
        "The following code uses t-SNE (t-Distributed Stochastic Neighbor Embedding) to visualize high-dimensional data. It first extracts the output of the last layer of a trained model and uses it to create an activation_model. This model is then used to generate activations for the test data. The activations are then transformed using t-SNE and plotted as a scatter plot with different colors representing different classes. The class names are also added to the plot as text labels."
      ],
      "metadata": {
        "id": "qY-xOWymQKV7"
      }
    },
    {
      "cell_type": "code",
      "metadata": {
        "id": "K0uD-g7NRdQ8",
        "colab": {
          "base_uri": "https://localhost:8080/",
          "height": 1000
        },
        "outputId": "08d90141-e088-4472-f3d5-bf0eee036a23"
      },
      "source": [
        "# t-SNE Visualization: t-Distributed Stochastic Neighbor Embedding (t-SNE) for visualizing high-dimensional data.\n",
        "from sklearn.manifold import TSNE\n",
        "import seaborn as sns\n",
        "\n",
        "layer = model.get_layer(index=len(model.layers)-1) # get last layer by index, use model.get_layer('dense_1') to get last layer by string.\n",
        "layer_output = layer.output\n",
        "activation_model = tf.keras.models.Model(inputs=model.input, outputs=[layer_output])\n",
        "activations = activation_model.predict(test_x)\n",
        "print(\"activations.shape=\", activations.shape)\n",
        "\n",
        "print(\"calculating t-SNE ... this may take some minutes depending on the size of the test set\")\n",
        "tsne = TSNE(random_state=86).fit_transform(activations)\n",
        "print(\"t-SNE calculation finished\")\n",
        "\n",
        "# creating a scatter plot.\n",
        "num_classes = len(class_names)\n",
        "palette = np.array(sns.color_palette([\"Blue\",\"Red\"] ,num_classes))  # manual selection of colors\n",
        "label_array = np.asarray(test_y.argmax(axis=1))\n",
        "\n",
        "fig = plt.figure(figsize=(12, 12))\n",
        "fig.patch.set_facecolor('black')\n",
        "plt.style.use('dark_background')\n",
        "plt.scatter(tsne[:, 0], tsne[:, 1], lw=0, s=90, c=palette[label_array])\n",
        "plt.axis('tight')\n",
        "\n",
        "txts = []\n",
        "for j in range(num_classes):\n",
        "    # Position of each label at median of data points.\n",
        "    xtext, ytext = np.median(tsne[label_array == j, :], axis=0)\n",
        "    txt = plt.text(xtext, ytext, class_names[j], fontsize=28, color = 'w')\n",
        "    txts.append(txt)\n",
        "plt.show()"
      ],
      "execution_count": null,
      "outputs": [
        {
          "output_type": "stream",
          "name": "stdout",
          "text": [
            "15/15 [==============================] - 0s 2ms/step\n",
            "activations.shape= (461, 2)\n",
            "calculating t-SNE ... this may take some minutes depending on the size of the test set\n",
            "t-SNE calculation finished\n"
          ]
        },
        {
          "output_type": "display_data",
          "data": {
            "text/plain": [
              "<Figure size 1200x1200 with 1 Axes>"
            ],
            "image/png": "[encoded data removed]"
          },
          "metadata": {}
        }
      ]
    },
    {
      "cell_type": "markdown",
      "source": [
        "The t-SNE visualization clearly illustrates that both classes of the test set are well separated from each other, but some misclassification are still present."
      ],
      "metadata": {
        "id": "2FN6BWZ-Q9m4"
      }
    },
    {
      "cell_type": "markdown",
      "source": [
        "# 4. Future Research\n",
        "Further experiments with more special tf.keras models including Long Short-Term Memory layers (LSTM) could improve the model even more."
      ],
      "metadata": {
        "id": "cDoBQf-ARfZ5"
      }
    },
    {
      "cell_type": "markdown",
      "source": [
        "## 5. References:\n",
        "* Official public source of the dataset: http://archive.ics.uci.edu/dataset/94/spambase\n",
        "\n",
        "* TensorFlow Tutorial \"Classification on imbalanced data\" (https://www.tensorflow.org/tutorials/structured_data/imbalanced_data)\n",
        "\n",
        "## License:\n",
        "Copyright (c) 2023 Ugur Uysal\n",
        "\n",
        "Licensed under the Apache License, Version 2.0 (the \"License\");\n",
        "you may not use this file except in compliance with the License.\n",
        "You may obtain a copy of the License at http://www.apache.org/licenses/LICENSE-2.0\n",
        "\n",
        "Unless required by applicable law or agreed to in writing, software\n",
        "distributed under the License is distributed on an \"AS IS\" BASIS,\n",
        "WITHOUT WARRANTIES OR CONDITIONS OF ANY KIND, either express or implied.\n",
        "See the License for the specific language governing permissions and\n",
        "limitations under the License."
      ],
      "metadata": {
        "id": "8o8kJrne__4t"
      }
    },
    {
      "cell_type": "markdown",
      "source": [
        "## Thank you. Visit my personal GitHub page https://github.com/UgurUysal86 for more examples."
      ],
      "metadata": {
        "id": "FsUtzEoj0k-R"
      }
    }
  ]
}